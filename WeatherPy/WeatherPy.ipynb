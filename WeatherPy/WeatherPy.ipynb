{
 "cells": [
  {
   "cell_type": "markdown",
   "metadata": {},
   "source": [
    "# WeatherPy\n",
    "----\n",
    "\n",
    "#### Note\n",
    "* Instructions have been included for each segment. You do not have to follow them exactly, but they are included to help you think through the steps."
   ]
  },
  {
   "cell_type": "code",
   "execution_count": null,
   "metadata": {},
   "outputs": [],
   "source": [
    "!pip install citipy"
   ]
  },
  {
   "cell_type": "code",
   "execution_count": 1,
   "metadata": {
    "scrolled": true
   },
   "outputs": [],
   "source": [
    "# Dependencies and Setup\n",
    "import matplotlib.pyplot as plt\n",
    "import pandas as pd\n",
    "import numpy as np\n",
    "import requests\n",
    "import time\n",
    "from scipy.stats import linregress\n",
    "\n",
    "# Import API key\n",
    "from api_keys import weather_api_key\n",
    "\n",
    "# Incorporated citipy to determine city based on latitude and longitude\n",
    "from citipy import citipy\n",
    "\n",
    "# Output File (CSV)\n",
    "output_data_file = \"output_data/cities.csv\"\n",
    "\n",
    "# Range of latitudes and longitudes\n",
    "lat_range = (-90, 90)\n",
    "lng_range = (-180, 180)"
   ]
  },
  {
   "cell_type": "markdown",
   "metadata": {},
   "source": [
    "## Generate Cities List"
   ]
  },
  {
   "cell_type": "code",
   "execution_count": 2,
   "metadata": {},
   "outputs": [
    {
     "data": {
      "text/plain": [
       "597"
      ]
     },
     "execution_count": 2,
     "metadata": {},
     "output_type": "execute_result"
    }
   ],
   "source": [
    "np.random.seed(42)\n",
    "\n",
    "# List for holding lat_lngs and cities\n",
    "lat_lngs = []\n",
    "cities = []\n",
    "\n",
    "# Create a set of random lat and lng combinations\n",
    "lats = np.random.uniform(lat_range[0], lat_range[1], size=1500)\n",
    "lngs = np.random.uniform(lng_range[0], lng_range[1], size=1500)\n",
    "lat_lngs = zip(lats, lngs)\n",
    "\n",
    "# Identify nearest city for each lat, lng combination\n",
    "for lat_lng in lat_lngs:\n",
    "    city = citipy.nearest_city(lat_lng[0], lat_lng[1]).city_name\n",
    "    \n",
    "    # If the city is unique, then add it to a our cities list\n",
    "    if city not in cities:\n",
    "        cities.append(city)\n",
    "\n",
    "# Print the city count to confirm sufficient count\n",
    "len(cities)"
   ]
  },
  {
   "cell_type": "markdown",
   "metadata": {},
   "source": [
    "### Perform API Calls\n",
    "* Perform a weather check on each city using a series of successive API calls.\n",
    "* Include a print log of each city as it'sbeing processed (with the city number and city name).\n"
   ]
  },
  {
   "cell_type": "code",
   "execution_count": null,
   "metadata": {},
   "outputs": [
    {
     "name": "stdout",
     "output_type": "stream",
     "text": [
      "Processing Record 1 of Set 1 | henties bay\n",
      "City not found. Skipping...\n",
      "Processing Record 2 of Set 1 | bethel\n",
      "Processing Record 3 of Set 1 | saint-francois\n",
      "Processing Record 4 of Set 1 | ushuaia\n",
      "Processing Record 5 of Set 1 | mar del plata\n",
      "Processing Record 6 of Set 1 | kruisfontein\n",
      "Processing Record 7 of Set 1 | bronnoysund\n",
      "City not found. Skipping...\n",
      "Processing Record 8 of Set 1 | yumen\n",
      "Processing Record 9 of Set 1 | albany\n",
      "Processing Record 10 of Set 1 | dikson\n",
      "Processing Record 11 of Set 1 | ossora\n",
      "Processing Record 12 of Set 1 | vaini\n",
      "Processing Record 13 of Set 1 | castro\n",
      "City not found. Skipping...\n",
      "Processing Record 14 of Set 1 | vanimo\n",
      "Processing Record 15 of Set 1 | san cristobal\n",
      "Processing Record 16 of Set 1 | ulladulla\n",
      "Processing Record 17 of Set 1 | ewa beach\n",
      "Processing Record 18 of Set 1 | bluff\n",
      "Processing Record 19 of Set 1 | maldonado\n",
      "Processing Record 20 of Set 1 | mataura\n",
      "Processing Record 21 of Set 1 | jamestown\n",
      "Processing Record 22 of Set 1 | geraldton\n",
      "Processing Record 23 of Set 1 | punta arenas\n",
      "Processing Record 24 of Set 1 | mitu\n",
      "Processing Record 25 of Set 1 | da nang\n",
      "Processing Record 26 of Set 1 | bredasdorp\n",
      "City not found. Skipping...\n",
      "Processing Record 27 of Set 1 | port alfred\n",
      "Processing Record 28 of Set 1 | busselton\n",
      "Processing Record 29 of Set 1 | qaanaaq\n",
      "Processing Record 30 of Set 1 | sitka\n",
      "Processing Record 31 of Set 1 | rikitea\n",
      "Processing Record 32 of Set 1 | yuma\n",
      "Processing Record 33 of Set 1 | luanda\n",
      "Processing Record 34 of Set 1 | saint-philippe\n",
      "Processing Record 35 of Set 1 | atuona\n",
      "Processing Record 36 of Set 1 | te anau\n",
      "Processing Record 37 of Set 1 | marrakesh\n",
      "Processing Record 38 of Set 1 | mbaiki\n",
      "Processing Record 39 of Set 1 | makakilo city\n",
      "Processing Record 40 of Set 1 | east london\n",
      "Processing Record 41 of Set 1 | cherskiy\n",
      "Processing Record 42 of Set 1 | lyman\n",
      "Processing Record 43 of Set 1 | saskylakh\n",
      "City not found. Skipping...\n",
      "City not found. Skipping...\n",
      "Processing Record 44 of Set 1 | yellowknife\n",
      "Processing Record 45 of Set 1 | chuy\n",
      "Processing Record 46 of Set 1 | new norfolk\n",
      "Processing Record 47 of Set 1 | broken hill\n",
      "Processing Record 48 of Set 1 | ribas do rio pardo\n",
      "Processing Record 49 of Set 1 | ancud\n",
      "Processing Record 50 of Set 1 | vanavara\n",
      "Processing Record 1 of Set 2 | coquimbo\n",
      "Processing Record 2 of Set 2 | sao filipe\n",
      "Processing Record 3 of Set 2 | kodiak\n",
      "Processing Record 4 of Set 2 | yurkivka\n",
      "City not found. Skipping...\n",
      "Processing Record 5 of Set 2 | guymon\n",
      "Processing Record 6 of Set 2 | inhambane\n",
      "Processing Record 7 of Set 2 | thompson\n",
      "Processing Record 8 of Set 2 | ponta do sol\n",
      "Processing Record 9 of Set 2 | richards bay\n",
      "Processing Record 10 of Set 2 | hermanus\n",
      "Processing Record 11 of Set 2 | russell\n",
      "Processing Record 12 of Set 2 | angren\n",
      "Processing Record 13 of Set 2 | hithadhoo\n",
      "Processing Record 14 of Set 2 | nikolskoye\n",
      "Processing Record 15 of Set 2 | port hardy\n",
      "Processing Record 16 of Set 2 | hilo\n",
      "Processing Record 17 of Set 2 | shar\n",
      "Processing Record 18 of Set 2 | goma\n",
      "Processing Record 19 of Set 2 | pizarro\n",
      "Processing Record 20 of Set 2 | faanui\n",
      "Processing Record 21 of Set 2 | hobart\n",
      "Processing Record 22 of Set 2 | road town\n",
      "Processing Record 23 of Set 2 | lebu\n",
      "Processing Record 24 of Set 2 | amapa\n",
      "Processing Record 25 of Set 2 | barrow\n",
      "Processing Record 26 of Set 2 | cape town\n",
      "Processing Record 27 of Set 2 | darhan\n",
      "Processing Record 28 of Set 2 | victor harbor\n",
      "City not found. Skipping...\n",
      "Processing Record 29 of Set 2 | havre-saint-pierre\n",
      "Processing Record 30 of Set 2 | the valley\n",
      "Processing Record 31 of Set 2 | verkhnyaya inta\n",
      "Processing Record 32 of Set 2 | beringovskiy\n",
      "Processing Record 33 of Set 2 | skjervoy\n",
      "Processing Record 34 of Set 2 | kalmunai\n",
      "Processing Record 35 of Set 2 | westport\n",
      "Processing Record 36 of Set 2 | oudtshoorn\n",
      "Processing Record 37 of Set 2 | grand gaube\n",
      "Processing Record 38 of Set 2 | la ronge\n",
      "Processing Record 39 of Set 2 | terrak\n",
      "Processing Record 40 of Set 2 | bonthe\n",
      "Processing Record 41 of Set 2 | bengkulu\n",
      "Processing Record 42 of Set 2 | necochea\n",
      "Processing Record 43 of Set 2 | chokurdakh\n",
      "Processing Record 44 of Set 2 | itarema\n",
      "Processing Record 45 of Set 2 | pacifica\n",
      "Processing Record 46 of Set 2 | isangel\n",
      "Processing Record 47 of Set 2 | esperance\n",
      "Processing Record 48 of Set 2 | port-gentil\n",
      "City not found. Skipping...\n",
      "Processing Record 49 of Set 2 | lompoc\n",
      "Processing Record 50 of Set 2 | bontang\n",
      "Processing Record 1 of Set 3 | mahebourg\n",
      "Processing Record 2 of Set 3 | lavrentiya\n",
      "Processing Record 3 of Set 3 | coihaique\n",
      "Processing Record 4 of Set 3 | breves\n",
      "Processing Record 5 of Set 3 | tuatapere\n",
      "Processing Record 6 of Set 3 | ajdabiya\n",
      "Processing Record 7 of Set 3 | saint-jean-port-joli\n",
      "Processing Record 8 of Set 3 | vila franca do campo\n",
      "Processing Record 9 of Set 3 | gat\n",
      "Processing Record 10 of Set 3 | katsuura\n",
      "Processing Record 11 of Set 3 | konongo\n",
      "Processing Record 12 of Set 3 | kaitangata\n",
      "Processing Record 13 of Set 3 | tommot\n",
      "Processing Record 14 of Set 3 | wanning\n",
      "Processing Record 15 of Set 3 | ribeira grande\n",
      "Processing Record 16 of Set 3 | sorong\n",
      "Processing Record 17 of Set 3 | rongcheng\n",
      "Processing Record 18 of Set 3 | kahului\n",
      "Processing Record 19 of Set 3 | caravelas\n",
      "Processing Record 20 of Set 3 | norman wells\n",
      "Processing Record 21 of Set 3 | sao luiz gonzaga\n",
      "City not found. Skipping...\n",
      "Processing Record 22 of Set 3 | udachnyy\n",
      "Processing Record 23 of Set 3 | naze\n",
      "Processing Record 24 of Set 3 | ola\n",
      "Processing Record 25 of Set 3 | ferkessedougou\n",
      "Processing Record 26 of Set 3 | yabelo\n",
      "Processing Record 27 of Set 3 | roald\n",
      "Processing Record 28 of Set 3 | tasiilaq\n",
      "Processing Record 29 of Set 3 | laguna\n",
      "Processing Record 30 of Set 3 | avera\n",
      "Processing Record 31 of Set 3 | kapaa\n",
      "Processing Record 32 of Set 3 | tuktoyaktuk\n",
      "Processing Record 33 of Set 3 | bilibino\n",
      "Processing Record 34 of Set 3 | krapkowice\n",
      "Processing Record 35 of Set 3 | butaritari\n",
      "Processing Record 36 of Set 3 | santa maria\n",
      "City not found. Skipping...\n",
      "Processing Record 37 of Set 3 | cabo san lucas\n",
      "Processing Record 38 of Set 3 | panzhihua\n",
      "Processing Record 39 of Set 3 | waipawa\n",
      "Processing Record 40 of Set 3 | avarua\n",
      "City not found. Skipping...\n",
      "Processing Record 41 of Set 3 | souillac\n",
      "Processing Record 42 of Set 3 | mecca\n",
      "Processing Record 43 of Set 3 | hauterive\n",
      "City not found. Skipping...\n",
      "Processing Record 44 of Set 3 | goure\n",
      "Processing Record 45 of Set 3 | touros\n",
      "Processing Record 46 of Set 3 | oga\n",
      "Processing Record 47 of Set 3 | codrington\n",
      "Processing Record 48 of Set 3 | khatanga\n",
      "Processing Record 49 of Set 3 | klaksvik\n",
      "City not found. Skipping...\n",
      "Processing Record 50 of Set 3 | puerto ayora\n",
      "Processing Record 1 of Set 4 | provideniya\n",
      "Processing Record 2 of Set 4 | phan thiet\n",
      "Processing Record 3 of Set 4 | pevek\n",
      "City not found. Skipping...\n",
      "Processing Record 4 of Set 4 | nouadhibou\n",
      "Processing Record 5 of Set 4 | tiksi\n",
      "Processing Record 6 of Set 4 | jacqueville\n",
      "Processing Record 7 of Set 4 | halifax\n",
      "Processing Record 8 of Set 4 | korla\n",
      "Processing Record 9 of Set 4 | lagos\n",
      "Processing Record 10 of Set 4 | ilhabela\n",
      "Processing Record 11 of Set 4 | vidim\n",
      "City not found. Skipping...\n",
      "Processing Record 12 of Set 4 | kluang\n",
      "Processing Record 13 of Set 4 | sao gabriel da cachoeira\n",
      "Processing Record 14 of Set 4 | sergeyevka\n",
      "Processing Record 15 of Set 4 | los llanos de aridane\n",
      "Processing Record 16 of Set 4 | paris\n",
      "Processing Record 17 of Set 4 | urusha\n",
      "Processing Record 18 of Set 4 | nome\n",
      "Processing Record 19 of Set 4 | salalah\n",
      "Processing Record 20 of Set 4 | victoria\n",
      "Processing Record 21 of Set 4 | ginir\n",
      "Processing Record 22 of Set 4 | abalak\n",
      "Processing Record 23 of Set 4 | varhaug\n",
      "Processing Record 24 of Set 4 | bambous virieux\n",
      "City not found. Skipping...\n",
      "Processing Record 25 of Set 4 | iracoubo\n"
     ]
    }
   ],
   "source": [
    "url = \"http://api.openweathermap.org/data/2.5/weather?units=Imperial&appid=\"\n",
    "\n",
    "city_name = []\n",
    "city_temp_max = []\n",
    "city_humidity = []\n",
    "city_clouds = []\n",
    "city_wind = []\n",
    "city_country = []\n",
    "city_date = []\n",
    "city_lat = []\n",
    "city_lng = []\n",
    "\n",
    "counter = 0\n",
    "set = 1\n",
    "\n",
    "for city in cities:\n",
    "    query_url = f\"{url}{weather_api_key}&q={city}\"\n",
    "    response = requests.get(query_url).json()\n",
    "    \n",
    "    try:\n",
    "             \n",
    "        name = response[\"name\"]\n",
    "        city_name.append(name)\n",
    "            \n",
    "        temp = response[\"main\"][\"temp_max\"]\n",
    "        city_temp_max.append(temp)\n",
    "    \n",
    "        humidity = response[\"main\"][\"humidity\"]\n",
    "        city_humidity.append(humidity)\n",
    "        \n",
    "        clouds = response[\"clouds\"][\"all\"]\n",
    "        city_clouds.append(clouds)\n",
    "        \n",
    "        wind = response[\"wind\"][\"speed\"]\n",
    "        city_wind.append(wind)\n",
    "        \n",
    "        country = response[\"sys\"][\"country\"]\n",
    "        city_country.append(country)\n",
    "        \n",
    "        date = response[\"dt\"]\n",
    "        city_date.append(date)\n",
    "        \n",
    "        lat = response[\"coord\"][\"lat\"]\n",
    "        city_lat.append(lat)\n",
    "        \n",
    "        lng = response[\"coord\"][\"lon\"]\n",
    "        city_lng.append(lat)\n",
    "        \n",
    "        if counter > 49:\n",
    "            counter = 1\n",
    "            set += 1\n",
    "            \n",
    "        else:\n",
    "            counter += 1\n",
    "        \n",
    "        print(f\"Processing Record {counter} of Set {set} | {city}\")\n",
    "\n",
    "    except:\n",
    "        print(\"City not found. Skipping...\")\n",
    "\n",
    "print(\"----------------------------------\")\n",
    "print(\"Data Retrieval Complete\")\n",
    "print(\"----------------------------------\")"
   ]
  },
  {
   "cell_type": "code",
   "execution_count": 14,
   "metadata": {},
   "outputs": [
    {
     "data": {
      "text/html": [
       "<div>\n",
       "<style scoped>\n",
       "    .dataframe tbody tr th:only-of-type {\n",
       "        vertical-align: middle;\n",
       "    }\n",
       "\n",
       "    .dataframe tbody tr th {\n",
       "        vertical-align: top;\n",
       "    }\n",
       "\n",
       "    .dataframe thead th {\n",
       "        text-align: right;\n",
       "    }\n",
       "</style>\n",
       "<table border=\"1\" class=\"dataframe\">\n",
       "  <thead>\n",
       "    <tr style=\"text-align: right;\">\n",
       "      <th></th>\n",
       "      <th>Name</th>\n",
       "      <th>Lat</th>\n",
       "      <th>Lng</th>\n",
       "      <th>Max Temp</th>\n",
       "      <th>Humidity</th>\n",
       "      <th>Cloudiness</th>\n",
       "      <th>Wind Speed</th>\n",
       "      <th>Country</th>\n",
       "      <th>Date</th>\n",
       "    </tr>\n",
       "  </thead>\n",
       "  <tbody>\n",
       "    <tr>\n",
       "      <th>0</th>\n",
       "      <td>Henties Bay</td>\n",
       "      <td>-22.1160</td>\n",
       "      <td>-22.1160</td>\n",
       "      <td>54.86</td>\n",
       "      <td>82</td>\n",
       "      <td>84</td>\n",
       "      <td>7.83</td>\n",
       "      <td>NA</td>\n",
       "      <td>&lt;module 'time' (built-in)&gt;</td>\n",
       "    </tr>\n",
       "    <tr>\n",
       "      <th>1</th>\n",
       "      <td>Bethel</td>\n",
       "      <td>41.3712</td>\n",
       "      <td>41.3712</td>\n",
       "      <td>60.93</td>\n",
       "      <td>91</td>\n",
       "      <td>6</td>\n",
       "      <td>3.00</td>\n",
       "      <td>US</td>\n",
       "      <td>&lt;module 'time' (built-in)&gt;</td>\n",
       "    </tr>\n",
       "    <tr>\n",
       "      <th>2</th>\n",
       "      <td>Saint-François</td>\n",
       "      <td>46.4154</td>\n",
       "      <td>46.4154</td>\n",
       "      <td>57.67</td>\n",
       "      <td>100</td>\n",
       "      <td>69</td>\n",
       "      <td>0.00</td>\n",
       "      <td>FR</td>\n",
       "      <td>&lt;module 'time' (built-in)&gt;</td>\n",
       "    </tr>\n",
       "    <tr>\n",
       "      <th>3</th>\n",
       "      <td>Ushuaia</td>\n",
       "      <td>-54.8000</td>\n",
       "      <td>-54.8000</td>\n",
       "      <td>38.86</td>\n",
       "      <td>87</td>\n",
       "      <td>75</td>\n",
       "      <td>26.46</td>\n",
       "      <td>AR</td>\n",
       "      <td>&lt;module 'time' (built-in)&gt;</td>\n",
       "    </tr>\n",
       "    <tr>\n",
       "      <th>4</th>\n",
       "      <td>Mar del Plata</td>\n",
       "      <td>-38.0023</td>\n",
       "      <td>-38.0023</td>\n",
       "      <td>56.88</td>\n",
       "      <td>87</td>\n",
       "      <td>0</td>\n",
       "      <td>1.99</td>\n",
       "      <td>AR</td>\n",
       "      <td>&lt;module 'time' (built-in)&gt;</td>\n",
       "    </tr>\n",
       "    <tr>\n",
       "      <th>...</th>\n",
       "      <td>...</td>\n",
       "      <td>...</td>\n",
       "      <td>...</td>\n",
       "      <td>...</td>\n",
       "      <td>...</td>\n",
       "      <td>...</td>\n",
       "      <td>...</td>\n",
       "      <td>...</td>\n",
       "      <td>...</td>\n",
       "    </tr>\n",
       "    <tr>\n",
       "      <th>539</th>\n",
       "      <td>Vredendal</td>\n",
       "      <td>-31.6683</td>\n",
       "      <td>-31.6683</td>\n",
       "      <td>54.63</td>\n",
       "      <td>84</td>\n",
       "      <td>3</td>\n",
       "      <td>2.62</td>\n",
       "      <td>ZA</td>\n",
       "      <td>&lt;module 'time' (built-in)&gt;</td>\n",
       "    </tr>\n",
       "    <tr>\n",
       "      <th>540</th>\n",
       "      <td>Kushima</td>\n",
       "      <td>31.4583</td>\n",
       "      <td>31.4583</td>\n",
       "      <td>81.12</td>\n",
       "      <td>94</td>\n",
       "      <td>100</td>\n",
       "      <td>5.97</td>\n",
       "      <td>JP</td>\n",
       "      <td>&lt;module 'time' (built-in)&gt;</td>\n",
       "    </tr>\n",
       "    <tr>\n",
       "      <th>541</th>\n",
       "      <td>Eirunepé</td>\n",
       "      <td>-6.6603</td>\n",
       "      <td>-6.6603</td>\n",
       "      <td>72.73</td>\n",
       "      <td>84</td>\n",
       "      <td>85</td>\n",
       "      <td>2.57</td>\n",
       "      <td>BR</td>\n",
       "      <td>&lt;module 'time' (built-in)&gt;</td>\n",
       "    </tr>\n",
       "    <tr>\n",
       "      <th>542</th>\n",
       "      <td>Tocopilla</td>\n",
       "      <td>-22.0920</td>\n",
       "      <td>-22.0920</td>\n",
       "      <td>62.20</td>\n",
       "      <td>65</td>\n",
       "      <td>1</td>\n",
       "      <td>1.70</td>\n",
       "      <td>CL</td>\n",
       "      <td>&lt;module 'time' (built-in)&gt;</td>\n",
       "    </tr>\n",
       "    <tr>\n",
       "      <th>543</th>\n",
       "      <td>Verkhoyansk</td>\n",
       "      <td>67.5447</td>\n",
       "      <td>67.5447</td>\n",
       "      <td>65.46</td>\n",
       "      <td>26</td>\n",
       "      <td>3</td>\n",
       "      <td>6.71</td>\n",
       "      <td>RU</td>\n",
       "      <td>&lt;module 'time' (built-in)&gt;</td>\n",
       "    </tr>\n",
       "  </tbody>\n",
       "</table>\n",
       "<p>544 rows × 9 columns</p>\n",
       "</div>"
      ],
      "text/plain": [
       "               Name      Lat      Lng  Max Temp  Humidity  Cloudiness  \\\n",
       "0       Henties Bay -22.1160 -22.1160     54.86        82          84   \n",
       "1            Bethel  41.3712  41.3712     60.93        91           6   \n",
       "2    Saint-François  46.4154  46.4154     57.67       100          69   \n",
       "3           Ushuaia -54.8000 -54.8000     38.86        87          75   \n",
       "4     Mar del Plata -38.0023 -38.0023     56.88        87           0   \n",
       "..              ...      ...      ...       ...       ...         ...   \n",
       "539       Vredendal -31.6683 -31.6683     54.63        84           3   \n",
       "540         Kushima  31.4583  31.4583     81.12        94         100   \n",
       "541        Eirunepé  -6.6603  -6.6603     72.73        84          85   \n",
       "542       Tocopilla -22.0920 -22.0920     62.20        65           1   \n",
       "543     Verkhoyansk  67.5447  67.5447     65.46        26           3   \n",
       "\n",
       "     Wind Speed Country                        Date  \n",
       "0          7.83      NA  <module 'time' (built-in)>  \n",
       "1          3.00      US  <module 'time' (built-in)>  \n",
       "2          0.00      FR  <module 'time' (built-in)>  \n",
       "3         26.46      AR  <module 'time' (built-in)>  \n",
       "4          1.99      AR  <module 'time' (built-in)>  \n",
       "..          ...     ...                         ...  \n",
       "539        2.62      ZA  <module 'time' (built-in)>  \n",
       "540        5.97      JP  <module 'time' (built-in)>  \n",
       "541        2.57      BR  <module 'time' (built-in)>  \n",
       "542        1.70      CL  <module 'time' (built-in)>  \n",
       "543        6.71      RU  <module 'time' (built-in)>  \n",
       "\n",
       "[544 rows x 9 columns]"
      ]
     },
     "execution_count": 14,
     "metadata": {},
     "output_type": "execute_result"
    }
   ],
   "source": [
    "weather_df = pd.DataFrame({\"Name\": city_name, \"Lat\": city_lat, \"Lng\": city_lng, \"Max Temp\": city_temp_max,\n",
    "                          \"Humidity\": city_humidity, \"Cloudiness\": city_clouds, \"Wind Speed\": city_wind,\n",
    "                          \"Country\": city_country, \"Date\": city_date})\n",
    "weather_df"
   ]
  },
  {
   "cell_type": "code",
   "execution_count": null,
   "metadata": {},
   "outputs": [],
   "source": []
  },
  {
   "cell_type": "code",
   "execution_count": null,
   "metadata": {},
   "outputs": [],
   "source": []
  },
  {
   "cell_type": "code",
   "execution_count": null,
   "metadata": {
    "scrolled": true
   },
   "outputs": [],
   "source": []
  },
  {
   "cell_type": "markdown",
   "metadata": {},
   "source": [
    "### Convert Raw Data to DataFrame\n",
    "* Export the city data into a .csv.\n",
    "* Display the DataFrame"
   ]
  },
  {
   "cell_type": "code",
   "execution_count": null,
   "metadata": {},
   "outputs": [],
   "source": []
  },
  {
   "cell_type": "code",
   "execution_count": null,
   "metadata": {},
   "outputs": [],
   "source": []
  },
  {
   "cell_type": "markdown",
   "metadata": {},
   "source": [
    "## Inspect the data and remove the cities where the humidity > 100%.\n",
    "----\n",
    "Skip this step if there are no cities that have humidity > 100%. "
   ]
  },
  {
   "cell_type": "code",
   "execution_count": null,
   "metadata": {},
   "outputs": [],
   "source": []
  },
  {
   "cell_type": "code",
   "execution_count": null,
   "metadata": {},
   "outputs": [],
   "source": [
    "#  Get the indices of cities that have humidity over 100%.\n"
   ]
  },
  {
   "cell_type": "code",
   "execution_count": null,
   "metadata": {},
   "outputs": [],
   "source": [
    "# Make a new DataFrame equal to the city data to drop all humidity outliers by index.\n",
    "# Passing \"inplace=False\" will make a copy of the city_data DataFrame, which we call \"clean_city_data\".\n"
   ]
  },
  {
   "cell_type": "code",
   "execution_count": null,
   "metadata": {},
   "outputs": [],
   "source": [
    "\n"
   ]
  },
  {
   "cell_type": "markdown",
   "metadata": {},
   "source": [
    "## Plotting the Data\n",
    "* Use proper labeling of the plots using plot titles (including date of analysis) and axes labels.\n",
    "* Save the plotted figures as .pngs."
   ]
  },
  {
   "cell_type": "markdown",
   "metadata": {},
   "source": [
    "## Latitude vs. Temperature Plot"
   ]
  },
  {
   "cell_type": "code",
   "execution_count": null,
   "metadata": {
    "scrolled": true
   },
   "outputs": [],
   "source": []
  },
  {
   "cell_type": "markdown",
   "metadata": {},
   "source": [
    "## Latitude vs. Humidity Plot"
   ]
  },
  {
   "cell_type": "code",
   "execution_count": null,
   "metadata": {},
   "outputs": [],
   "source": []
  },
  {
   "cell_type": "markdown",
   "metadata": {},
   "source": [
    "## Latitude vs. Cloudiness Plot"
   ]
  },
  {
   "cell_type": "code",
   "execution_count": null,
   "metadata": {},
   "outputs": [],
   "source": []
  },
  {
   "cell_type": "markdown",
   "metadata": {},
   "source": [
    "## Latitude vs. Wind Speed Plot"
   ]
  },
  {
   "cell_type": "code",
   "execution_count": null,
   "metadata": {},
   "outputs": [],
   "source": []
  },
  {
   "cell_type": "markdown",
   "metadata": {},
   "source": [
    "## Linear Regression"
   ]
  },
  {
   "cell_type": "code",
   "execution_count": null,
   "metadata": {},
   "outputs": [],
   "source": []
  },
  {
   "cell_type": "markdown",
   "metadata": {},
   "source": [
    "####  Northern Hemisphere - Max Temp vs. Latitude Linear Regression"
   ]
  },
  {
   "cell_type": "code",
   "execution_count": null,
   "metadata": {},
   "outputs": [],
   "source": []
  },
  {
   "cell_type": "markdown",
   "metadata": {},
   "source": [
    "####  Southern Hemisphere - Max Temp vs. Latitude Linear Regression"
   ]
  },
  {
   "cell_type": "code",
   "execution_count": null,
   "metadata": {},
   "outputs": [],
   "source": []
  },
  {
   "cell_type": "markdown",
   "metadata": {},
   "source": [
    "####  Northern Hemisphere - Humidity (%) vs. Latitude Linear Regression"
   ]
  },
  {
   "cell_type": "code",
   "execution_count": null,
   "metadata": {},
   "outputs": [],
   "source": []
  },
  {
   "cell_type": "markdown",
   "metadata": {},
   "source": [
    "####  Southern Hemisphere - Humidity (%) vs. Latitude Linear Regression"
   ]
  },
  {
   "cell_type": "code",
   "execution_count": null,
   "metadata": {},
   "outputs": [],
   "source": []
  },
  {
   "cell_type": "markdown",
   "metadata": {},
   "source": [
    "####  Northern Hemisphere - Cloudiness (%) vs. Latitude Linear Regression"
   ]
  },
  {
   "cell_type": "code",
   "execution_count": null,
   "metadata": {},
   "outputs": [],
   "source": []
  },
  {
   "cell_type": "markdown",
   "metadata": {},
   "source": [
    "####  Southern Hemisphere - Cloudiness (%) vs. Latitude Linear Regression"
   ]
  },
  {
   "cell_type": "code",
   "execution_count": null,
   "metadata": {},
   "outputs": [],
   "source": []
  },
  {
   "cell_type": "markdown",
   "metadata": {},
   "source": [
    "####  Northern Hemisphere - Wind Speed (mph) vs. Latitude Linear Regression"
   ]
  },
  {
   "cell_type": "code",
   "execution_count": null,
   "metadata": {},
   "outputs": [],
   "source": []
  },
  {
   "cell_type": "markdown",
   "metadata": {},
   "source": [
    "####  Southern Hemisphere - Wind Speed (mph) vs. Latitude Linear Regression"
   ]
  },
  {
   "cell_type": "code",
   "execution_count": null,
   "metadata": {},
   "outputs": [],
   "source": []
  },
  {
   "cell_type": "code",
   "execution_count": null,
   "metadata": {},
   "outputs": [],
   "source": []
  }
 ],
 "metadata": {
  "anaconda-cloud": {},
  "kernel_info": {
   "name": "python3"
  },
  "kernelspec": {
   "display_name": "Python [conda env:PythonData] *",
   "language": "python",
   "name": "conda-env-PythonData-py"
  },
  "language_info": {
   "codemirror_mode": {
    "name": "ipython",
    "version": 3
   },
   "file_extension": ".py",
   "mimetype": "text/x-python",
   "name": "python",
   "nbconvert_exporter": "python",
   "pygments_lexer": "ipython3",
   "version": "3.6.10"
  },
  "latex_envs": {
   "LaTeX_envs_menu_present": true,
   "autoclose": false,
   "autocomplete": true,
   "bibliofile": "biblio.bib",
   "cite_by": "apalike",
   "current_citInitial": 1,
   "eqLabelWithNumbers": true,
   "eqNumInitial": 1,
   "hotkeys": {
    "equation": "Ctrl-E",
    "itemize": "Ctrl-I"
   },
   "labels_anchors": false,
   "latex_user_defs": false,
   "report_style_numbering": false,
   "user_envs_cfg": false
  },
  "nteract": {
   "version": "0.12.3"
  }
 },
 "nbformat": 4,
 "nbformat_minor": 2
}
