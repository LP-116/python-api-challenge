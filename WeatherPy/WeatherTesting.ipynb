{
 "cells": [
  {
   "cell_type": "markdown",
   "metadata": {},
   "source": [
    "# WeatherPy\n",
    "----\n",
    "\n",
    "#### Note\n",
    "* Instructions have been included for each segment. You do not have to follow them exactly, but they are included to help you think through the steps."
   ]
  },
  {
   "cell_type": "code",
   "execution_count": null,
   "metadata": {},
   "outputs": [],
   "source": [
    "!pip install citipy"
   ]
  },
  {
   "cell_type": "code",
   "execution_count": 1,
   "metadata": {
    "scrolled": true
   },
   "outputs": [],
   "source": [
    "# Dependencies and Setup\n",
    "import matplotlib.pyplot as plt\n",
    "import pandas as pd\n",
    "import numpy as np\n",
    "import requests\n",
    "import time\n",
    "from scipy.stats import linregress\n",
    "\n",
    "# Import API key\n",
    "from api_keys import weather_api_key\n",
    "\n",
    "# Incorporated citipy to determine city based on latitude and longitude\n",
    "from citipy import citipy\n",
    "\n",
    "# Output File (CSV)\n",
    "output_data_file = \"output_data/cities.csv\"\n",
    "\n",
    "# Range of latitudes and longitudes\n",
    "lat_range = (-90, 90)\n",
    "lng_range = (-180, 180)"
   ]
  },
  {
   "cell_type": "markdown",
   "metadata": {},
   "source": [
    "## Generate Cities List"
   ]
  },
  {
   "cell_type": "code",
   "execution_count": 2,
   "metadata": {},
   "outputs": [
    {
     "data": {
      "text/plain": [
       "135"
      ]
     },
     "execution_count": 2,
     "metadata": {},
     "output_type": "execute_result"
    }
   ],
   "source": [
    "# List for holding lat_lngs and cities\n",
    "lat_lngs = []\n",
    "cities = []\n",
    "\n",
    "# Create a set of random lat and lng combinations\n",
    "lats = np.random.uniform(lat_range[0], lat_range[1], size=200)\n",
    "lngs = np.random.uniform(lng_range[0], lng_range[1], size=200)\n",
    "lat_lngs = zip(lats, lngs)\n",
    "\n",
    "# Identify nearest city for each lat, lng combination\n",
    "for lat_lng in lat_lngs:\n",
    "    city = citipy.nearest_city(lat_lng[0], lat_lng[1]).city_name\n",
    "    \n",
    "    # If the city is unique, then add it to a our cities list\n",
    "    if city not in cities:\n",
    "        cities.append(city)\n",
    "\n",
    "# Print the city count to confirm sufficient count\n",
    "len(cities)"
   ]
  },
  {
   "cell_type": "markdown",
   "metadata": {},
   "source": [
    "### Perform API Calls\n",
    "* Perform a weather check on each city using a series of successive API calls.\n",
    "* Include a print log of each city as it'sbeing processed (with the city number and city name).\n"
   ]
  },
  {
   "cell_type": "code",
   "execution_count": 11,
   "metadata": {},
   "outputs": [
    {
     "name": "stdout",
     "output_type": "stream",
     "text": [
      "missing\n",
      "missing\n",
      "missing\n",
      "missing\n",
      "missing\n",
      "missing\n",
      "missing\n",
      "missing\n",
      "missing\n",
      "missing\n",
      "missing\n",
      "missing\n"
     ]
    }
   ],
   "source": [
    "url = \"http://api.openweathermap.org/data/2.5/weather?units=Imperial&appid=\"\n",
    "\n",
    "city_name = []\n",
    "city_temp_max = []\n",
    "city_humidity = []\n",
    "city_clouds = []\n",
    "city_wind = []\n",
    "city_country = []\n",
    "city_date = []\n",
    "city_lat = []\n",
    "city_lng = []\n",
    "\n",
    "for city in cities:\n",
    "    query_url = f\"{url}{weather_api_key}&q={city}\"\n",
    "    response = requests.get(query_url).json()\n",
    "    \n",
    "    try:\n",
    "        name = response[\"name\"]\n",
    "        city_name.append(name)\n",
    "        \n",
    "        temp = response[\"main\"][\"temp_max\"]\n",
    "        city_temp_max.append(temp)\n",
    "    \n",
    "        humidity = response[\"main\"][\"humidity\"]\n",
    "        city_humidity.append(humidity)\n",
    "        \n",
    "        clouds = response[\"clouds\"][\"all\"]\n",
    "        city_clouds.append(clouds)\n",
    "        \n",
    "        wind = response[\"wind\"][\"speed\"]\n",
    "        city_wind.append(wind)\n",
    "        \n",
    "        country = response[\"sys\"][\"country\"]\n",
    "        city_country.append(country)\n",
    "        \n",
    "        date = response[\"dt\"]\n",
    "        city_date.append(time)\n",
    "        \n",
    "        lat = response[\"coord\"][\"lat\"]\n",
    "        city_lat.append(lat)\n",
    "        \n",
    "        lng = response[\"coord\"][\"lon\"]\n",
    "        city_lng.append(lat)\n",
    "\n",
    "    except:\n",
    "        print(\"missing\")\n",
    "    "
   ]
  },
  {
   "cell_type": "code",
   "execution_count": 12,
   "metadata": {},
   "outputs": [
    {
     "data": {
      "text/plain": [
       "['RE',\n",
       " 'CK',\n",
       " 'US',\n",
       " 'RU',\n",
       " 'US',\n",
       " 'BR',\n",
       " 'MX',\n",
       " 'RE',\n",
       " 'CL',\n",
       " 'PF',\n",
       " 'EC',\n",
       " 'MG',\n",
       " 'CV',\n",
       " 'AU',\n",
       " 'RU',\n",
       " 'PH',\n",
       " 'CL',\n",
       " 'US',\n",
       " 'RU',\n",
       " 'NZ',\n",
       " 'ET',\n",
       " 'PT',\n",
       " 'KI',\n",
       " 'RU',\n",
       " 'NZ',\n",
       " 'AU',\n",
       " 'AU',\n",
       " 'US',\n",
       " 'NZ',\n",
       " 'BR',\n",
       " 'US',\n",
       " 'ZA',\n",
       " 'KZ',\n",
       " 'US',\n",
       " 'GT',\n",
       " 'EC',\n",
       " 'CA',\n",
       " 'AU',\n",
       " 'GL',\n",
       " 'RU',\n",
       " 'TZ',\n",
       " 'RU',\n",
       " 'TO',\n",
       " 'AR',\n",
       " 'CA',\n",
       " 'ID',\n",
       " 'RU',\n",
       " 'AU',\n",
       " 'SE',\n",
       " 'GL',\n",
       " 'RU',\n",
       " 'BR',\n",
       " 'FR',\n",
       " 'BR',\n",
       " 'SA',\n",
       " 'ID',\n",
       " 'US',\n",
       " 'VE',\n",
       " 'RU',\n",
       " 'CV',\n",
       " 'US',\n",
       " 'MZ',\n",
       " 'AR',\n",
       " 'US',\n",
       " 'AU',\n",
       " 'RU',\n",
       " 'CL',\n",
       " 'RU',\n",
       " 'US',\n",
       " 'ID',\n",
       " 'VU',\n",
       " 'PT',\n",
       " 'US',\n",
       " 'US',\n",
       " 'ID',\n",
       " 'US',\n",
       " 'CA',\n",
       " 'RU',\n",
       " 'RU',\n",
       " 'US',\n",
       " 'AU',\n",
       " 'JP',\n",
       " 'ZA',\n",
       " 'HK',\n",
       " 'PF',\n",
       " 'US',\n",
       " 'PT',\n",
       " 'NU',\n",
       " 'ZA',\n",
       " 'RU',\n",
       " 'NO',\n",
       " 'BR',\n",
       " 'AU',\n",
       " 'US',\n",
       " 'BR',\n",
       " 'ZA',\n",
       " 'RU',\n",
       " 'CA',\n",
       " 'PK',\n",
       " 'US',\n",
       " 'NC',\n",
       " 'MU',\n",
       " 'ID',\n",
       " 'US',\n",
       " 'SB',\n",
       " 'MX',\n",
       " 'TL',\n",
       " 'CA',\n",
       " 'GL',\n",
       " 'RU',\n",
       " 'ID',\n",
       " 'US',\n",
       " 'CN',\n",
       " 'US',\n",
       " 'PT',\n",
       " 'BR',\n",
       " 'KE',\n",
       " 'MY',\n",
       " 'GL',\n",
       " 'SB',\n",
       " 'MZ',\n",
       " 'RU',\n",
       " 'RU']"
      ]
     },
     "execution_count": 12,
     "metadata": {},
     "output_type": "execute_result"
    }
   ],
   "source": [
    "city_country"
   ]
  },
  {
   "cell_type": "code",
   "execution_count": 4,
   "metadata": {},
   "outputs": [
    {
     "data": {
      "text/plain": [
       "{'coord': {'lon': -0.1257, 'lat': 51.5085},\n",
       " 'weather': [{'id': 802,\n",
       "   'main': 'Clouds',\n",
       "   'description': 'scattered clouds',\n",
       "   'icon': '03n'}],\n",
       " 'base': 'stations',\n",
       " 'main': {'temp': 56.52,\n",
       "  'feels_like': 56.05,\n",
       "  'temp_min': 51.13,\n",
       "  'temp_max': 60.21,\n",
       "  'pressure': 1027,\n",
       "  'humidity': 89},\n",
       " 'visibility': 10000,\n",
       " 'wind': {'speed': 2.3, 'deg': 0},\n",
       " 'clouds': {'all': 30},\n",
       " 'dt': 1623553644,\n",
       " 'sys': {'type': 2,\n",
       "  'id': 2019646,\n",
       "  'country': 'GB',\n",
       "  'sunrise': 1623555785,\n",
       "  'sunset': 1623615494},\n",
       " 'timezone': 3600,\n",
       " 'id': 2643743,\n",
       " 'name': 'London',\n",
       " 'cod': 200}"
      ]
     },
     "execution_count": 4,
     "metadata": {},
     "output_type": "execute_result"
    }
   ],
   "source": [
    "city_test = \"London\"\n",
    "query_url2 = f\"{url}{weather_api_key}&q={city_test}\"\n",
    "response_test = requests.get(query_url2).json()\n",
    "response_test"
   ]
  },
  {
   "cell_type": "code",
   "execution_count": 7,
   "metadata": {},
   "outputs": [
    {
     "data": {
      "text/plain": [
       "-0.1257"
      ]
     },
     "execution_count": 7,
     "metadata": {},
     "output_type": "execute_result"
    }
   ],
   "source": [
    "lon = response_test[\"coord\"][\"lon\"]\n",
    "lon"
   ]
  },
  {
   "cell_type": "code",
   "execution_count": null,
   "metadata": {},
   "outputs": [],
   "source": []
  },
  {
   "cell_type": "code",
   "execution_count": null,
   "metadata": {
    "scrolled": true
   },
   "outputs": [],
   "source": []
  },
  {
   "cell_type": "markdown",
   "metadata": {},
   "source": [
    "### Convert Raw Data to DataFrame\n",
    "* Export the city data into a .csv.\n",
    "* Display the DataFrame"
   ]
  },
  {
   "cell_type": "code",
   "execution_count": null,
   "metadata": {},
   "outputs": [],
   "source": []
  },
  {
   "cell_type": "code",
   "execution_count": null,
   "metadata": {},
   "outputs": [],
   "source": []
  },
  {
   "cell_type": "markdown",
   "metadata": {},
   "source": [
    "## Inspect the data and remove the cities where the humidity > 100%.\n",
    "----\n",
    "Skip this step if there are no cities that have humidity > 100%. "
   ]
  },
  {
   "cell_type": "code",
   "execution_count": null,
   "metadata": {},
   "outputs": [],
   "source": []
  },
  {
   "cell_type": "code",
   "execution_count": null,
   "metadata": {},
   "outputs": [],
   "source": [
    "#  Get the indices of cities that have humidity over 100%.\n"
   ]
  },
  {
   "cell_type": "code",
   "execution_count": null,
   "metadata": {},
   "outputs": [],
   "source": [
    "# Make a new DataFrame equal to the city data to drop all humidity outliers by index.\n",
    "# Passing \"inplace=False\" will make a copy of the city_data DataFrame, which we call \"clean_city_data\".\n"
   ]
  },
  {
   "cell_type": "code",
   "execution_count": null,
   "metadata": {},
   "outputs": [],
   "source": [
    "\n"
   ]
  },
  {
   "cell_type": "markdown",
   "metadata": {},
   "source": [
    "## Plotting the Data\n",
    "* Use proper labeling of the plots using plot titles (including date of analysis) and axes labels.\n",
    "* Save the plotted figures as .pngs."
   ]
  },
  {
   "cell_type": "markdown",
   "metadata": {},
   "source": [
    "## Latitude vs. Temperature Plot"
   ]
  },
  {
   "cell_type": "code",
   "execution_count": null,
   "metadata": {
    "scrolled": true
   },
   "outputs": [],
   "source": []
  },
  {
   "cell_type": "markdown",
   "metadata": {},
   "source": [
    "## Latitude vs. Humidity Plot"
   ]
  },
  {
   "cell_type": "code",
   "execution_count": null,
   "metadata": {},
   "outputs": [],
   "source": []
  },
  {
   "cell_type": "markdown",
   "metadata": {},
   "source": [
    "## Latitude vs. Cloudiness Plot"
   ]
  },
  {
   "cell_type": "code",
   "execution_count": null,
   "metadata": {},
   "outputs": [],
   "source": []
  },
  {
   "cell_type": "markdown",
   "metadata": {},
   "source": [
    "## Latitude vs. Wind Speed Plot"
   ]
  },
  {
   "cell_type": "code",
   "execution_count": null,
   "metadata": {},
   "outputs": [],
   "source": []
  },
  {
   "cell_type": "markdown",
   "metadata": {},
   "source": [
    "## Linear Regression"
   ]
  },
  {
   "cell_type": "code",
   "execution_count": null,
   "metadata": {},
   "outputs": [],
   "source": []
  },
  {
   "cell_type": "markdown",
   "metadata": {},
   "source": [
    "####  Northern Hemisphere - Max Temp vs. Latitude Linear Regression"
   ]
  },
  {
   "cell_type": "code",
   "execution_count": null,
   "metadata": {},
   "outputs": [],
   "source": []
  },
  {
   "cell_type": "markdown",
   "metadata": {},
   "source": [
    "####  Southern Hemisphere - Max Temp vs. Latitude Linear Regression"
   ]
  },
  {
   "cell_type": "code",
   "execution_count": null,
   "metadata": {},
   "outputs": [],
   "source": []
  },
  {
   "cell_type": "markdown",
   "metadata": {},
   "source": [
    "####  Northern Hemisphere - Humidity (%) vs. Latitude Linear Regression"
   ]
  },
  {
   "cell_type": "code",
   "execution_count": null,
   "metadata": {},
   "outputs": [],
   "source": []
  },
  {
   "cell_type": "markdown",
   "metadata": {},
   "source": [
    "####  Southern Hemisphere - Humidity (%) vs. Latitude Linear Regression"
   ]
  },
  {
   "cell_type": "code",
   "execution_count": null,
   "metadata": {},
   "outputs": [],
   "source": []
  },
  {
   "cell_type": "markdown",
   "metadata": {},
   "source": [
    "####  Northern Hemisphere - Cloudiness (%) vs. Latitude Linear Regression"
   ]
  },
  {
   "cell_type": "code",
   "execution_count": null,
   "metadata": {},
   "outputs": [],
   "source": []
  },
  {
   "cell_type": "markdown",
   "metadata": {},
   "source": [
    "####  Southern Hemisphere - Cloudiness (%) vs. Latitude Linear Regression"
   ]
  },
  {
   "cell_type": "code",
   "execution_count": null,
   "metadata": {},
   "outputs": [],
   "source": []
  },
  {
   "cell_type": "markdown",
   "metadata": {},
   "source": [
    "####  Northern Hemisphere - Wind Speed (mph) vs. Latitude Linear Regression"
   ]
  },
  {
   "cell_type": "code",
   "execution_count": null,
   "metadata": {},
   "outputs": [],
   "source": []
  },
  {
   "cell_type": "markdown",
   "metadata": {},
   "source": [
    "####  Southern Hemisphere - Wind Speed (mph) vs. Latitude Linear Regression"
   ]
  },
  {
   "cell_type": "code",
   "execution_count": null,
   "metadata": {},
   "outputs": [],
   "source": []
  },
  {
   "cell_type": "code",
   "execution_count": null,
   "metadata": {},
   "outputs": [],
   "source": []
  }
 ],
 "metadata": {
  "anaconda-cloud": {},
  "kernel_info": {
   "name": "python3"
  },
  "kernelspec": {
   "display_name": "Python [conda env:PythonData] *",
   "language": "python",
   "name": "conda-env-PythonData-py"
  },
  "language_info": {
   "codemirror_mode": {
    "name": "ipython",
    "version": 3
   },
   "file_extension": ".py",
   "mimetype": "text/x-python",
   "name": "python",
   "nbconvert_exporter": "python",
   "pygments_lexer": "ipython3",
   "version": "3.6.10"
  },
  "latex_envs": {
   "LaTeX_envs_menu_present": true,
   "autoclose": false,
   "autocomplete": true,
   "bibliofile": "biblio.bib",
   "cite_by": "apalike",
   "current_citInitial": 1,
   "eqLabelWithNumbers": true,
   "eqNumInitial": 1,
   "hotkeys": {
    "equation": "Ctrl-E",
    "itemize": "Ctrl-I"
   },
   "labels_anchors": false,
   "latex_user_defs": false,
   "report_style_numbering": false,
   "user_envs_cfg": false
  },
  "nteract": {
   "version": "0.12.3"
  }
 },
 "nbformat": 4,
 "nbformat_minor": 2
}
