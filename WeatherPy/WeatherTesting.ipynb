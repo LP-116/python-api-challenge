{
 "cells": [
  {
   "cell_type": "markdown",
   "metadata": {},
   "source": [
    "# WeatherPy\n",
    "----\n",
    "\n",
    "#### Note\n",
    "* Instructions have been included for each segment. You do not have to follow them exactly, but they are included to help you think through the steps."
   ]
  },
  {
   "cell_type": "code",
   "execution_count": null,
   "metadata": {},
   "outputs": [],
   "source": [
    "!pip install citipy"
   ]
  },
  {
   "cell_type": "code",
   "execution_count": 1,
   "metadata": {
    "scrolled": true
   },
   "outputs": [],
   "source": [
    "# Dependencies and Setup\n",
    "import matplotlib.pyplot as plt\n",
    "import pandas as pd\n",
    "import numpy as np\n",
    "import requests\n",
    "import time\n",
    "from scipy.stats import linregress\n",
    "\n",
    "# Import API key\n",
    "from api_keys import weather_api_key\n",
    "\n",
    "# Incorporated citipy to determine city based on latitude and longitude\n",
    "from citipy import citipy\n",
    "\n",
    "# Output File (CSV)\n",
    "output_data_file = \"output_data/cities.csv\"\n",
    "\n",
    "# Range of latitudes and longitudes\n",
    "lat_range = (-90, 90)\n",
    "lng_range = (-180, 180)"
   ]
  },
  {
   "cell_type": "markdown",
   "metadata": {},
   "source": [
    "## Generate Cities List"
   ]
  },
  {
   "cell_type": "code",
   "execution_count": 24,
   "metadata": {},
   "outputs": [
    {
     "data": {
      "text/plain": [
       "186"
      ]
     },
     "execution_count": 24,
     "metadata": {},
     "output_type": "execute_result"
    }
   ],
   "source": [
    "# List for holding lat_lngs and cities\n",
    "lat_lngs = []\n",
    "cities = []\n",
    "\n",
    "# Create a set of random lat and lng combinations\n",
    "lats = np.random.uniform(lat_range[0], lat_range[1], size=300)\n",
    "lngs = np.random.uniform(lng_range[0], lng_range[1], size=300)\n",
    "lat_lngs = zip(lats, lngs)\n",
    "\n",
    "# Identify nearest city for each lat, lng combination\n",
    "for lat_lng in lat_lngs:\n",
    "    city = citipy.nearest_city(lat_lng[0], lat_lng[1]).city_name\n",
    "    \n",
    "    # If the city is unique, then add it to a our cities list\n",
    "    if city not in cities:\n",
    "        cities.append(city)\n",
    "\n",
    "# Print the city count to confirm sufficient count\n",
    "len(cities)"
   ]
  },
  {
   "cell_type": "markdown",
   "metadata": {},
   "source": [
    "### Perform API Calls\n",
    "* Perform a weather check on each city using a series of successive API calls.\n",
    "* Include a print log of each city as it'sbeing processed (with the city number and city name).\n"
   ]
  },
  {
   "cell_type": "code",
   "execution_count": 25,
   "metadata": {},
   "outputs": [
    {
     "name": "stdout",
     "output_type": "stream",
     "text": [
      "Processing Record 1 of Set 1 | puerto ayora\n",
      "Processing Record 2 of Set 1 | rikitea\n",
      "Processing Record 3 of Set 1 | ushuaia\n",
      "Processing Record 4 of Set 1 | bluff\n",
      "Processing Record 5 of Set 1 | bredasdorp\n",
      "Processing Record 6 of Set 1 | saint-philippe\n",
      "Processing Record 7 of Set 1 | tuntum\n",
      "Processing Record 8 of Set 1 | albany\n",
      "missing\n",
      "Processing Record 9 of Set 1 | sanski most\n",
      "Processing Record 10 of Set 1 | cape town\n",
      "missing\n",
      "Processing Record 11 of Set 1 | leshukonskoye\n",
      "missing\n",
      "Processing Record 12 of Set 1 | east london\n",
      "Processing Record 13 of Set 1 | qaqortoq\n",
      "Processing Record 14 of Set 1 | bonavista\n",
      "Processing Record 15 of Set 1 | fairbanks\n",
      "Processing Record 16 of Set 1 | bengkulu\n",
      "Processing Record 17 of Set 1 | lagoa\n",
      "missing\n",
      "Processing Record 18 of Set 1 | presidencia roque saenz pena\n",
      "Processing Record 19 of Set 1 | victoria\n",
      "Processing Record 20 of Set 1 | beringovskiy\n",
      "Processing Record 21 of Set 1 | carnarvon\n",
      "Processing Record 22 of Set 1 | ribeira grande\n",
      "Processing Record 23 of Set 1 | tiksi\n",
      "Processing Record 24 of Set 1 | vila franca do campo\n",
      "Processing Record 25 of Set 1 | atuona\n",
      "missing\n",
      "missing\n",
      "Processing Record 26 of Set 1 | butaritari\n",
      "Processing Record 27 of Set 1 | saldanha\n",
      "Processing Record 28 of Set 1 | kodiak\n",
      "Processing Record 29 of Set 1 | yellowknife\n",
      "Processing Record 30 of Set 1 | bethel\n",
      "missing\n",
      "Processing Record 31 of Set 1 | sadovoye\n",
      "Processing Record 32 of Set 1 | honningsvag\n",
      "Processing Record 33 of Set 1 | plouzane\n",
      "Processing Record 34 of Set 1 | esperance\n",
      "Processing Record 35 of Set 1 | mayumba\n",
      "Processing Record 36 of Set 1 | thompson\n",
      "Processing Record 37 of Set 1 | hornepayne\n",
      "Processing Record 38 of Set 1 | pernem\n",
      "Processing Record 39 of Set 1 | maracana\n",
      "Processing Record 40 of Set 1 | hermanus\n",
      "Processing Record 41 of Set 1 | harij\n",
      "missing\n",
      "Processing Record 42 of Set 1 | olafsvik\n",
      "Processing Record 43 of Set 1 | aljezur\n",
      "Processing Record 44 of Set 1 | upernavik\n",
      "Processing Record 45 of Set 1 | nikolskoye\n",
      "Processing Record 46 of Set 1 | raudeberg\n",
      "Processing Record 47 of Set 1 | hobart\n",
      "Processing Record 48 of Set 1 | saskylakh\n",
      "Processing Record 49 of Set 1 | lasa\n",
      "Processing Record 50 of Set 1 | ahipara\n",
      "Processing Record 1 of Set 2 | saint george\n",
      "Processing Record 2 of Set 2 | punta arenas\n",
      "Processing Record 3 of Set 2 | bambous virieux\n",
      "Processing Record 4 of Set 2 | berlevag\n",
      "Processing Record 5 of Set 2 | port elizabeth\n",
      "Processing Record 6 of Set 2 | hailey\n",
      "Processing Record 7 of Set 2 | mar del plata\n",
      "Processing Record 8 of Set 2 | san luis\n",
      "Processing Record 9 of Set 2 | qaanaaq\n",
      "Processing Record 10 of Set 2 | dikson\n",
      "Processing Record 11 of Set 2 | constitucion\n",
      "Processing Record 12 of Set 2 | jamestown\n",
      "Processing Record 13 of Set 2 | geraldton\n",
      "Processing Record 14 of Set 2 | buraydah\n",
      "Processing Record 15 of Set 2 | san patricio\n",
      "missing\n",
      "Processing Record 16 of Set 2 | saint-joseph\n",
      "Processing Record 17 of Set 2 | torbay\n",
      "Processing Record 18 of Set 2 | arraial do cabo\n",
      "missing\n",
      "missing\n",
      "Processing Record 19 of Set 2 | new norfolk\n",
      "Processing Record 20 of Set 2 | pisco\n",
      "Processing Record 21 of Set 2 | vaini\n",
      "Processing Record 22 of Set 2 | lima\n",
      "Processing Record 23 of Set 2 | manono\n",
      "Processing Record 24 of Set 2 | rio grande\n",
      "Processing Record 25 of Set 2 | pevek\n",
      "Processing Record 26 of Set 2 | busselton\n",
      "Processing Record 27 of Set 2 | port augusta\n",
      "Processing Record 28 of Set 2 | belaya\n",
      "missing\n",
      "Processing Record 29 of Set 2 | port-gentil\n",
      "Processing Record 30 of Set 2 | port alfred\n",
      "Processing Record 31 of Set 2 | jackson\n",
      "Processing Record 32 of Set 2 | grindavik\n",
      "Processing Record 33 of Set 2 | verkhnevilyuysk\n",
      "missing\n",
      "Processing Record 34 of Set 2 | union\n",
      "Processing Record 35 of Set 2 | port blair\n",
      "Processing Record 36 of Set 2 | taltal\n",
      "Processing Record 37 of Set 2 | eidsvag\n",
      "Processing Record 38 of Set 2 | hithadhoo\n",
      "Processing Record 39 of Set 2 | clyde river\n",
      "Processing Record 40 of Set 2 | itarema\n",
      "Processing Record 41 of Set 2 | tuktoyaktuk\n",
      "Processing Record 42 of Set 2 | novyy urengoy\n",
      "missing\n",
      "Processing Record 43 of Set 2 | sisimiut\n",
      "Processing Record 44 of Set 2 | norman wells\n",
      "Processing Record 45 of Set 2 | san quintin\n",
      "Processing Record 46 of Set 2 | komsomolskiy\n",
      "Processing Record 47 of Set 2 | kupang\n",
      "Processing Record 48 of Set 2 | pasni\n",
      "Processing Record 49 of Set 2 | fortuna\n",
      "Processing Record 50 of Set 2 | kolyvan\n",
      "Processing Record 1 of Set 3 | ketchikan\n",
      "Processing Record 2 of Set 3 | lexington\n",
      "Processing Record 3 of Set 3 | mataura\n",
      "Processing Record 4 of Set 3 | barrow\n",
      "Processing Record 5 of Set 3 | mahebourg\n",
      "Processing Record 6 of Set 3 | ola\n",
      "Processing Record 7 of Set 3 | sao miguel do tapuio\n",
      "Processing Record 8 of Set 3 | port-cartier\n",
      "Processing Record 9 of Set 3 | nelson bay\n",
      "Processing Record 10 of Set 3 | comodoro rivadavia\n",
      "Processing Record 11 of Set 3 | zhigansk\n",
      "Processing Record 12 of Set 3 | beyneu\n",
      "Processing Record 13 of Set 3 | paamiut\n",
      "Processing Record 14 of Set 3 | fort-shevchenko\n",
      "Processing Record 15 of Set 3 | hilo\n",
      "missing\n",
      "Processing Record 16 of Set 3 | luanda\n",
      "Processing Record 17 of Set 3 | srednekolymsk\n",
      "Processing Record 18 of Set 3 | wanning\n",
      "Processing Record 19 of Set 3 | lompoc\n",
      "Processing Record 20 of Set 3 | tasiilaq\n",
      "missing\n",
      "Processing Record 21 of Set 3 | kapaa\n",
      "Processing Record 22 of Set 3 | khani\n",
      "Processing Record 23 of Set 3 | ayagoz\n",
      "Processing Record 24 of Set 3 | makasar\n",
      "Processing Record 25 of Set 3 | sao filipe\n",
      "missing\n",
      "Processing Record 26 of Set 3 | khatanga\n",
      "Processing Record 27 of Set 3 | moerai\n",
      "Processing Record 28 of Set 3 | airai\n",
      "Processing Record 29 of Set 3 | klaksvik\n",
      "Processing Record 30 of Set 3 | rio gallegos\n",
      "Processing Record 31 of Set 3 | adrar\n",
      "Processing Record 32 of Set 3 | sao jose da coroa grande\n",
      "Processing Record 33 of Set 3 | sorkjosen\n",
      "Processing Record 34 of Set 3 | namatanai\n",
      "Processing Record 35 of Set 3 | zhuhai\n",
      "Processing Record 36 of Set 3 | nanortalik\n",
      "Processing Record 37 of Set 3 | kirkenes\n",
      "Processing Record 38 of Set 3 | san cristobal\n",
      "Processing Record 39 of Set 3 | cidreira\n",
      "Processing Record 40 of Set 3 | barguzin\n",
      "Processing Record 41 of Set 3 | miles city\n",
      "Processing Record 42 of Set 3 | invermere\n",
      "Processing Record 43 of Set 3 | maningrida\n",
      "Processing Record 44 of Set 3 | dicabisagan\n",
      "missing\n",
      "Processing Record 45 of Set 3 | arvika\n",
      "Processing Record 46 of Set 3 | touros\n",
      "Processing Record 47 of Set 3 | jumla\n",
      "Processing Record 48 of Set 3 | bom jesus\n",
      "Processing Record 49 of Set 3 | pangody\n",
      "Processing Record 50 of Set 3 | dunedin\n",
      "Processing Record 1 of Set 4 | faanui\n",
      "Processing Record 2 of Set 4 | augusto correa\n",
      "Processing Record 3 of Set 4 | avarua\n",
      "Processing Record 4 of Set 4 | broome\n",
      "Processing Record 5 of Set 4 | lashio\n",
      "Processing Record 6 of Set 4 | sistranda\n",
      "Processing Record 7 of Set 4 | aykhal\n",
      "Processing Record 8 of Set 4 | roscommon\n",
      "Processing Record 9 of Set 4 | terney\n",
      "Processing Record 10 of Set 4 | elko\n",
      "Processing Record 11 of Set 4 | churapcha\n",
      "Processing Record 12 of Set 4 | berdigestyakh\n",
      "Processing Record 13 of Set 4 | coquimbo\n",
      "Processing Record 14 of Set 4 | sioux lookout\n",
      "Processing Record 15 of Set 4 | san juan\n",
      "Processing Record 16 of Set 4 | longyearbyen\n",
      "Processing Record 17 of Set 4 | port hardy\n",
      "Processing Record 18 of Set 4 | severo-kurilsk\n"
     ]
    }
   ],
   "source": [
    "url = \"http://api.openweathermap.org/data/2.5/weather?units=Imperial&appid=\"\n",
    "\n",
    "city_name = []\n",
    "city_temp_max = []\n",
    "city_humidity = []\n",
    "city_clouds = []\n",
    "city_wind = []\n",
    "city_country = []\n",
    "city_date = []\n",
    "city_lat = []\n",
    "city_lng = []\n",
    "\n",
    "counter = 0\n",
    "set = 1\n",
    "\n",
    "for city in cities:\n",
    "    query_url = f\"{url}{weather_api_key}&q={city}\"\n",
    "    response = requests.get(query_url).json()\n",
    "    \n",
    "    try:\n",
    "             \n",
    "        name = response[\"name\"]\n",
    "        city_name.append(name)\n",
    "        \n",
    "        if counter > 49:\n",
    "            counter = 1\n",
    "            set += 1\n",
    "            \n",
    "        else:\n",
    "            counter += 1\n",
    "            \n",
    "        print(f\"Processing Record {counter} of Set {set} | {city}\")\n",
    "        \n",
    "#         temp = response[\"main\"][\"temp_max\"]\n",
    "#         city_temp_max.append(temp)\n",
    "    \n",
    "#         humidity = response[\"main\"][\"humidity\"]\n",
    "#         city_humidity.append(humidity)\n",
    "        \n",
    "#         clouds = response[\"clouds\"][\"all\"]\n",
    "#         city_clouds.append(clouds)\n",
    "        \n",
    "#         wind = response[\"wind\"][\"speed\"]\n",
    "#         city_wind.append(wind)\n",
    "        \n",
    "#         country = response[\"sys\"][\"country\"]\n",
    "#         city_country.append(country)\n",
    "        \n",
    "#         date = response[\"dt\"]\n",
    "#         city_date.append(time)\n",
    "        \n",
    "#         lat = response[\"coord\"][\"lat\"]\n",
    "#         city_lat.append(lat)\n",
    "        \n",
    "#         lng = response[\"coord\"][\"lon\"]\n",
    "#         city_lng.append(lat)\n",
    "\n",
    "    except:\n",
    "        print(\"missing\")\n",
    "    "
   ]
  },
  {
   "cell_type": "code",
   "execution_count": 12,
   "metadata": {},
   "outputs": [
    {
     "data": {
      "text/plain": [
       "['RE',\n",
       " 'CK',\n",
       " 'US',\n",
       " 'RU',\n",
       " 'US',\n",
       " 'BR',\n",
       " 'MX',\n",
       " 'RE',\n",
       " 'CL',\n",
       " 'PF',\n",
       " 'EC',\n",
       " 'MG',\n",
       " 'CV',\n",
       " 'AU',\n",
       " 'RU',\n",
       " 'PH',\n",
       " 'CL',\n",
       " 'US',\n",
       " 'RU',\n",
       " 'NZ',\n",
       " 'ET',\n",
       " 'PT',\n",
       " 'KI',\n",
       " 'RU',\n",
       " 'NZ',\n",
       " 'AU',\n",
       " 'AU',\n",
       " 'US',\n",
       " 'NZ',\n",
       " 'BR',\n",
       " 'US',\n",
       " 'ZA',\n",
       " 'KZ',\n",
       " 'US',\n",
       " 'GT',\n",
       " 'EC',\n",
       " 'CA',\n",
       " 'AU',\n",
       " 'GL',\n",
       " 'RU',\n",
       " 'TZ',\n",
       " 'RU',\n",
       " 'TO',\n",
       " 'AR',\n",
       " 'CA',\n",
       " 'ID',\n",
       " 'RU',\n",
       " 'AU',\n",
       " 'SE',\n",
       " 'GL',\n",
       " 'RU',\n",
       " 'BR',\n",
       " 'FR',\n",
       " 'BR',\n",
       " 'SA',\n",
       " 'ID',\n",
       " 'US',\n",
       " 'VE',\n",
       " 'RU',\n",
       " 'CV',\n",
       " 'US',\n",
       " 'MZ',\n",
       " 'AR',\n",
       " 'US',\n",
       " 'AU',\n",
       " 'RU',\n",
       " 'CL',\n",
       " 'RU',\n",
       " 'US',\n",
       " 'ID',\n",
       " 'VU',\n",
       " 'PT',\n",
       " 'US',\n",
       " 'US',\n",
       " 'ID',\n",
       " 'US',\n",
       " 'CA',\n",
       " 'RU',\n",
       " 'RU',\n",
       " 'US',\n",
       " 'AU',\n",
       " 'JP',\n",
       " 'ZA',\n",
       " 'HK',\n",
       " 'PF',\n",
       " 'US',\n",
       " 'PT',\n",
       " 'NU',\n",
       " 'ZA',\n",
       " 'RU',\n",
       " 'NO',\n",
       " 'BR',\n",
       " 'AU',\n",
       " 'US',\n",
       " 'BR',\n",
       " 'ZA',\n",
       " 'RU',\n",
       " 'CA',\n",
       " 'PK',\n",
       " 'US',\n",
       " 'NC',\n",
       " 'MU',\n",
       " 'ID',\n",
       " 'US',\n",
       " 'SB',\n",
       " 'MX',\n",
       " 'TL',\n",
       " 'CA',\n",
       " 'GL',\n",
       " 'RU',\n",
       " 'ID',\n",
       " 'US',\n",
       " 'CN',\n",
       " 'US',\n",
       " 'PT',\n",
       " 'BR',\n",
       " 'KE',\n",
       " 'MY',\n",
       " 'GL',\n",
       " 'SB',\n",
       " 'MZ',\n",
       " 'RU',\n",
       " 'RU']"
      ]
     },
     "execution_count": 12,
     "metadata": {},
     "output_type": "execute_result"
    }
   ],
   "source": [
    "city_country"
   ]
  },
  {
   "cell_type": "code",
   "execution_count": 4,
   "metadata": {},
   "outputs": [
    {
     "data": {
      "text/plain": [
       "{'coord': {'lon': -0.1257, 'lat': 51.5085},\n",
       " 'weather': [{'id': 802,\n",
       "   'main': 'Clouds',\n",
       "   'description': 'scattered clouds',\n",
       "   'icon': '03n'}],\n",
       " 'base': 'stations',\n",
       " 'main': {'temp': 56.52,\n",
       "  'feels_like': 56.05,\n",
       "  'temp_min': 51.13,\n",
       "  'temp_max': 60.21,\n",
       "  'pressure': 1027,\n",
       "  'humidity': 89},\n",
       " 'visibility': 10000,\n",
       " 'wind': {'speed': 2.3, 'deg': 0},\n",
       " 'clouds': {'all': 30},\n",
       " 'dt': 1623553644,\n",
       " 'sys': {'type': 2,\n",
       "  'id': 2019646,\n",
       "  'country': 'GB',\n",
       "  'sunrise': 1623555785,\n",
       "  'sunset': 1623615494},\n",
       " 'timezone': 3600,\n",
       " 'id': 2643743,\n",
       " 'name': 'London',\n",
       " 'cod': 200}"
      ]
     },
     "execution_count": 4,
     "metadata": {},
     "output_type": "execute_result"
    }
   ],
   "source": [
    "city_test = \"London\"\n",
    "query_url2 = f\"{url}{weather_api_key}&q={city_test}\"\n",
    "response_test = requests.get(query_url2).json()\n",
    "response_test"
   ]
  },
  {
   "cell_type": "code",
   "execution_count": 7,
   "metadata": {},
   "outputs": [
    {
     "data": {
      "text/plain": [
       "-0.1257"
      ]
     },
     "execution_count": 7,
     "metadata": {},
     "output_type": "execute_result"
    }
   ],
   "source": [
    "lon = response_test[\"coord\"][\"lon\"]\n",
    "lon"
   ]
  },
  {
   "cell_type": "code",
   "execution_count": null,
   "metadata": {},
   "outputs": [],
   "source": []
  },
  {
   "cell_type": "code",
   "execution_count": null,
   "metadata": {
    "scrolled": true
   },
   "outputs": [],
   "source": []
  },
  {
   "cell_type": "markdown",
   "metadata": {},
   "source": [
    "### Convert Raw Data to DataFrame\n",
    "* Export the city data into a .csv.\n",
    "* Display the DataFrame"
   ]
  },
  {
   "cell_type": "code",
   "execution_count": null,
   "metadata": {},
   "outputs": [],
   "source": []
  },
  {
   "cell_type": "code",
   "execution_count": null,
   "metadata": {},
   "outputs": [],
   "source": []
  },
  {
   "cell_type": "markdown",
   "metadata": {},
   "source": [
    "## Inspect the data and remove the cities where the humidity > 100%.\n",
    "----\n",
    "Skip this step if there are no cities that have humidity > 100%. "
   ]
  },
  {
   "cell_type": "code",
   "execution_count": null,
   "metadata": {},
   "outputs": [],
   "source": []
  },
  {
   "cell_type": "code",
   "execution_count": null,
   "metadata": {},
   "outputs": [],
   "source": [
    "#  Get the indices of cities that have humidity over 100%.\n"
   ]
  },
  {
   "cell_type": "code",
   "execution_count": null,
   "metadata": {},
   "outputs": [],
   "source": [
    "# Make a new DataFrame equal to the city data to drop all humidity outliers by index.\n",
    "# Passing \"inplace=False\" will make a copy of the city_data DataFrame, which we call \"clean_city_data\".\n"
   ]
  },
  {
   "cell_type": "code",
   "execution_count": null,
   "metadata": {},
   "outputs": [],
   "source": [
    "\n"
   ]
  },
  {
   "cell_type": "markdown",
   "metadata": {},
   "source": [
    "## Plotting the Data\n",
    "* Use proper labeling of the plots using plot titles (including date of analysis) and axes labels.\n",
    "* Save the plotted figures as .pngs."
   ]
  },
  {
   "cell_type": "markdown",
   "metadata": {},
   "source": [
    "## Latitude vs. Temperature Plot"
   ]
  },
  {
   "cell_type": "code",
   "execution_count": null,
   "metadata": {
    "scrolled": true
   },
   "outputs": [],
   "source": []
  },
  {
   "cell_type": "markdown",
   "metadata": {},
   "source": [
    "## Latitude vs. Humidity Plot"
   ]
  },
  {
   "cell_type": "code",
   "execution_count": null,
   "metadata": {},
   "outputs": [],
   "source": []
  },
  {
   "cell_type": "markdown",
   "metadata": {},
   "source": [
    "## Latitude vs. Cloudiness Plot"
   ]
  },
  {
   "cell_type": "code",
   "execution_count": null,
   "metadata": {},
   "outputs": [],
   "source": []
  },
  {
   "cell_type": "markdown",
   "metadata": {},
   "source": [
    "## Latitude vs. Wind Speed Plot"
   ]
  },
  {
   "cell_type": "code",
   "execution_count": null,
   "metadata": {},
   "outputs": [],
   "source": []
  },
  {
   "cell_type": "markdown",
   "metadata": {},
   "source": [
    "## Linear Regression"
   ]
  },
  {
   "cell_type": "code",
   "execution_count": null,
   "metadata": {},
   "outputs": [],
   "source": []
  },
  {
   "cell_type": "markdown",
   "metadata": {},
   "source": [
    "####  Northern Hemisphere - Max Temp vs. Latitude Linear Regression"
   ]
  },
  {
   "cell_type": "code",
   "execution_count": null,
   "metadata": {},
   "outputs": [],
   "source": []
  },
  {
   "cell_type": "markdown",
   "metadata": {},
   "source": [
    "####  Southern Hemisphere - Max Temp vs. Latitude Linear Regression"
   ]
  },
  {
   "cell_type": "code",
   "execution_count": null,
   "metadata": {},
   "outputs": [],
   "source": []
  },
  {
   "cell_type": "markdown",
   "metadata": {},
   "source": [
    "####  Northern Hemisphere - Humidity (%) vs. Latitude Linear Regression"
   ]
  },
  {
   "cell_type": "code",
   "execution_count": null,
   "metadata": {},
   "outputs": [],
   "source": []
  },
  {
   "cell_type": "markdown",
   "metadata": {},
   "source": [
    "####  Southern Hemisphere - Humidity (%) vs. Latitude Linear Regression"
   ]
  },
  {
   "cell_type": "code",
   "execution_count": null,
   "metadata": {},
   "outputs": [],
   "source": []
  },
  {
   "cell_type": "markdown",
   "metadata": {},
   "source": [
    "####  Northern Hemisphere - Cloudiness (%) vs. Latitude Linear Regression"
   ]
  },
  {
   "cell_type": "code",
   "execution_count": null,
   "metadata": {},
   "outputs": [],
   "source": []
  },
  {
   "cell_type": "markdown",
   "metadata": {},
   "source": [
    "####  Southern Hemisphere - Cloudiness (%) vs. Latitude Linear Regression"
   ]
  },
  {
   "cell_type": "code",
   "execution_count": null,
   "metadata": {},
   "outputs": [],
   "source": []
  },
  {
   "cell_type": "markdown",
   "metadata": {},
   "source": [
    "####  Northern Hemisphere - Wind Speed (mph) vs. Latitude Linear Regression"
   ]
  },
  {
   "cell_type": "code",
   "execution_count": null,
   "metadata": {},
   "outputs": [],
   "source": []
  },
  {
   "cell_type": "markdown",
   "metadata": {},
   "source": [
    "####  Southern Hemisphere - Wind Speed (mph) vs. Latitude Linear Regression"
   ]
  },
  {
   "cell_type": "code",
   "execution_count": null,
   "metadata": {},
   "outputs": [],
   "source": []
  },
  {
   "cell_type": "code",
   "execution_count": null,
   "metadata": {},
   "outputs": [],
   "source": []
  }
 ],
 "metadata": {
  "anaconda-cloud": {},
  "kernel_info": {
   "name": "python3"
  },
  "kernelspec": {
   "display_name": "Python [conda env:PythonData] *",
   "language": "python",
   "name": "conda-env-PythonData-py"
  },
  "language_info": {
   "codemirror_mode": {
    "name": "ipython",
    "version": 3
   },
   "file_extension": ".py",
   "mimetype": "text/x-python",
   "name": "python",
   "nbconvert_exporter": "python",
   "pygments_lexer": "ipython3",
   "version": "3.6.10"
  },
  "latex_envs": {
   "LaTeX_envs_menu_present": true,
   "autoclose": false,
   "autocomplete": true,
   "bibliofile": "biblio.bib",
   "cite_by": "apalike",
   "current_citInitial": 1,
   "eqLabelWithNumbers": true,
   "eqNumInitial": 1,
   "hotkeys": {
    "equation": "Ctrl-E",
    "itemize": "Ctrl-I"
   },
   "labels_anchors": false,
   "latex_user_defs": false,
   "report_style_numbering": false,
   "user_envs_cfg": false
  },
  "nteract": {
   "version": "0.12.3"
  }
 },
 "nbformat": 4,
 "nbformat_minor": 2
}
