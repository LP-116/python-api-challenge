{
 "cells": [
  {
   "cell_type": "markdown",
   "metadata": {},
   "source": [
    "# WeatherPy\n",
    "----\n",
    "\n",
    "#### Note\n",
    "* Instructions have been included for each segment. You do not have to follow them exactly, but they are included to help you think through the steps."
   ]
  },
  {
   "cell_type": "code",
   "execution_count": null,
   "metadata": {},
   "outputs": [],
   "source": [
    "!pip install citipy"
   ]
  },
  {
   "cell_type": "code",
   "execution_count": 1,
   "metadata": {
    "scrolled": true
   },
   "outputs": [],
   "source": [
    "# Dependencies and Setup\n",
    "import matplotlib.pyplot as plt\n",
    "import pandas as pd\n",
    "import numpy as np\n",
    "import requests\n",
    "import time\n",
    "from scipy.stats import linregress\n",
    "\n",
    "# Import API key\n",
    "from api_keys import weather_api_key\n",
    "\n",
    "# Incorporated citipy to determine city based on latitude and longitude\n",
    "from citipy import citipy\n",
    "\n",
    "# Output File (CSV)\n",
    "output_data_file = \"output_data/cities.csv\"\n",
    "\n",
    "# Range of latitudes and longitudes\n",
    "lat_range = (-90, 90)\n",
    "lng_range = (-180, 180)"
   ]
  },
  {
   "cell_type": "markdown",
   "metadata": {},
   "source": [
    "## Generate Cities List"
   ]
  },
  {
   "cell_type": "code",
   "execution_count": 28,
   "metadata": {},
   "outputs": [
    {
     "data": {
      "text/plain": [
       "86"
      ]
     },
     "execution_count": 28,
     "metadata": {},
     "output_type": "execute_result"
    }
   ],
   "source": [
    "# List for holding lat_lngs and cities\n",
    "lat_lngs = []\n",
    "cities = []\n",
    "\n",
    "# Create a set of random lat and lng combinations\n",
    "lats = np.random.uniform(lat_range[0], lat_range[1], size=100)\n",
    "lngs = np.random.uniform(lng_range[0], lng_range[1], size=100)\n",
    "lat_lngs = zip(lats, lngs)\n",
    "\n",
    "# Identify nearest city for each lat, lng combination\n",
    "for lat_lng in lat_lngs:\n",
    "    city = citipy.nearest_city(lat_lng[0], lat_lng[1]).city_name\n",
    "    \n",
    "    # If the city is unique, then add it to a our cities list\n",
    "    if city not in cities:\n",
    "        cities.append(city)\n",
    "\n",
    "# Print the city count to confirm sufficient count\n",
    "len(cities)"
   ]
  },
  {
   "cell_type": "markdown",
   "metadata": {},
   "source": [
    "### Perform API Calls\n",
    "* Perform a weather check on each city using a series of successive API calls.\n",
    "* Include a print log of each city as it'sbeing processed (with the city number and city name).\n"
   ]
  },
  {
   "cell_type": "code",
   "execution_count": 29,
   "metadata": {},
   "outputs": [
    {
     "name": "stdout",
     "output_type": "stream",
     "text": [
      "Processing Record 1 of Set 1 | butaritari\n",
      "Processing Record 2 of Set 1 | altagracia de orituco\n",
      "Processing Record 3 of Set 1 | mataura\n",
      "Processing Record 4 of Set 1 | cockburn town\n",
      "Processing Record 5 of Set 1 | parrita\n",
      "Processing Record 6 of Set 1 | albany\n",
      "City not found. Skipping...\n",
      "Processing Record 7 of Set 1 | college\n",
      "Processing Record 8 of Set 1 | new norfolk\n",
      "Processing Record 9 of Set 1 | ribeira grande\n",
      "Processing Record 10 of Set 1 | port alfred\n",
      "City not found. Skipping...\n",
      "Processing Record 11 of Set 1 | lebu\n",
      "Processing Record 12 of Set 1 | yanaul\n",
      "Processing Record 13 of Set 1 | vung tau\n",
      "Processing Record 14 of Set 1 | komsomolskiy\n",
      "Processing Record 15 of Set 1 | mar del plata\n",
      "Processing Record 16 of Set 1 | berlevag\n",
      "Processing Record 17 of Set 1 | olonets\n",
      "Processing Record 18 of Set 1 | cape canaveral\n",
      "Processing Record 19 of Set 1 | fairbanks\n",
      "Processing Record 20 of Set 1 | yellowknife\n",
      "Processing Record 21 of Set 1 | korla\n",
      "Processing Record 22 of Set 1 | rikitea\n",
      "Processing Record 23 of Set 1 | chardara\n",
      "Processing Record 24 of Set 1 | padang\n",
      "Processing Record 25 of Set 1 | punta arenas\n",
      "Processing Record 26 of Set 1 | hobart\n",
      "City not found. Skipping...\n",
      "Processing Record 27 of Set 1 | nanortalik\n",
      "Processing Record 28 of Set 1 | chuy\n",
      "Processing Record 29 of Set 1 | khatanga\n",
      "Processing Record 30 of Set 1 | atuona\n",
      "Processing Record 31 of Set 1 | hermanus\n",
      "Processing Record 32 of Set 1 | cabo san lucas\n",
      "Processing Record 33 of Set 1 | buraydah\n",
      "Processing Record 34 of Set 1 | asyut\n",
      "Processing Record 35 of Set 1 | dikson\n",
      "Processing Record 36 of Set 1 | portland\n",
      "Processing Record 37 of Set 1 | moron\n",
      "Processing Record 38 of Set 1 | necochea\n",
      "Processing Record 39 of Set 1 | qaanaaq\n",
      "City not found. Skipping...\n",
      "Processing Record 40 of Set 1 | georgetown\n",
      "Processing Record 41 of Set 1 | bluff\n",
      "City not found. Skipping...\n",
      "Processing Record 42 of Set 1 | kharp\n",
      "Processing Record 43 of Set 1 | lagoa\n",
      "Processing Record 44 of Set 1 | jiazi\n",
      "Processing Record 45 of Set 1 | flinders\n",
      "Processing Record 46 of Set 1 | najran\n",
      "Processing Record 47 of Set 1 | nicoya\n",
      "Processing Record 48 of Set 1 | vilhena\n",
      "Processing Record 49 of Set 1 | faanui\n",
      "Processing Record 50 of Set 1 | barrow\n",
      "Processing Record 1 of Set 2 | ambon\n",
      "Processing Record 2 of Set 2 | kodiak\n",
      "Processing Record 3 of Set 2 | cabra\n",
      "Processing Record 4 of Set 2 | pucallpa\n",
      "City not found. Skipping...\n",
      "Processing Record 5 of Set 2 | hasaki\n",
      "Processing Record 6 of Set 2 | port augusta\n",
      "Processing Record 7 of Set 2 | ushuaia\n",
      "Processing Record 8 of Set 2 | nelson bay\n",
      "Processing Record 9 of Set 2 | summerland\n",
      "Processing Record 10 of Set 2 | nchelenge\n",
      "Processing Record 11 of Set 2 | iquique\n",
      "Processing Record 12 of Set 2 | avarua\n",
      "Processing Record 13 of Set 2 | bela palanka\n",
      "Processing Record 14 of Set 2 | nikolskoye\n",
      "Processing Record 15 of Set 2 | arraial do cabo\n",
      "Processing Record 16 of Set 2 | qaqortoq\n",
      "Processing Record 17 of Set 2 | jacksonville beach\n",
      "Processing Record 18 of Set 2 | iquitos\n",
      "City not found. Skipping...\n",
      "City not found. Skipping...\n",
      "Processing Record 19 of Set 2 | isangel\n",
      "Processing Record 20 of Set 2 | buchanan\n",
      "Processing Record 21 of Set 2 | bredasdorp\n",
      "Processing Record 22 of Set 2 | itoman\n",
      "Processing Record 23 of Set 2 | guozhen\n",
      "Processing Record 24 of Set 2 | east london\n",
      "Processing Record 25 of Set 2 | sandwick\n",
      "Processing Record 26 of Set 2 | bethel\n",
      "Processing Record 27 of Set 2 | carnarvon\n",
      "Processing Record 28 of Set 2 | fortuna\n"
     ]
    }
   ],
   "source": [
    "url = \"http://api.openweathermap.org/data/2.5/weather?units=Imperial&appid=\"\n",
    "\n",
    "city_name = []\n",
    "city_temp_max = []\n",
    "city_humidity = []\n",
    "city_clouds = []\n",
    "city_wind = []\n",
    "city_country = []\n",
    "city_date = []\n",
    "city_lat = []\n",
    "city_lng = []\n",
    "\n",
    "counter = 0\n",
    "set = 1\n",
    "\n",
    "for city in cities:\n",
    "    query_url = f\"{url}{weather_api_key}&q={city}\"\n",
    "    response = requests.get(query_url).json()\n",
    "    \n",
    "    try:\n",
    "             \n",
    "        name = response[\"name\"]\n",
    "        city_name.append(name)\n",
    "        \n",
    "        if counter > 49:\n",
    "            counter = 1\n",
    "            set += 1\n",
    "            \n",
    "        else:\n",
    "            counter += 1\n",
    "            \n",
    "        print(f\"Processing Record {counter} of Set {set} | {city}\")\n",
    "        \n",
    "        temp = response[\"main\"][\"temp_max\"]\n",
    "        city_temp_max.append(temp)\n",
    "    \n",
    "        humidity = response[\"main\"][\"humidity\"]\n",
    "        city_humidity.append(humidity)\n",
    "        \n",
    "        clouds = response[\"clouds\"][\"all\"]\n",
    "        city_clouds.append(clouds)\n",
    "        \n",
    "        wind = response[\"wind\"][\"speed\"]\n",
    "        city_wind.append(wind)\n",
    "        \n",
    "        country = response[\"sys\"][\"country\"]\n",
    "        city_country.append(country)\n",
    "        \n",
    "        date = response[\"dt\"]\n",
    "        city_date.append(date)\n",
    "        \n",
    "        lat = response[\"coord\"][\"lat\"]\n",
    "        city_lat.append(lat)\n",
    "        \n",
    "        lng = response[\"coord\"][\"lon\"]\n",
    "        city_lng.append(lat)\n",
    "\n",
    "    except:\n",
    "        print(\"City not found. Skipping...\")\n",
    "    "
   ]
  },
  {
   "cell_type": "code",
   "execution_count": 12,
   "metadata": {},
   "outputs": [
    {
     "data": {
      "text/plain": [
       "['RE',\n",
       " 'CK',\n",
       " 'US',\n",
       " 'RU',\n",
       " 'US',\n",
       " 'BR',\n",
       " 'MX',\n",
       " 'RE',\n",
       " 'CL',\n",
       " 'PF',\n",
       " 'EC',\n",
       " 'MG',\n",
       " 'CV',\n",
       " 'AU',\n",
       " 'RU',\n",
       " 'PH',\n",
       " 'CL',\n",
       " 'US',\n",
       " 'RU',\n",
       " 'NZ',\n",
       " 'ET',\n",
       " 'PT',\n",
       " 'KI',\n",
       " 'RU',\n",
       " 'NZ',\n",
       " 'AU',\n",
       " 'AU',\n",
       " 'US',\n",
       " 'NZ',\n",
       " 'BR',\n",
       " 'US',\n",
       " 'ZA',\n",
       " 'KZ',\n",
       " 'US',\n",
       " 'GT',\n",
       " 'EC',\n",
       " 'CA',\n",
       " 'AU',\n",
       " 'GL',\n",
       " 'RU',\n",
       " 'TZ',\n",
       " 'RU',\n",
       " 'TO',\n",
       " 'AR',\n",
       " 'CA',\n",
       " 'ID',\n",
       " 'RU',\n",
       " 'AU',\n",
       " 'SE',\n",
       " 'GL',\n",
       " 'RU',\n",
       " 'BR',\n",
       " 'FR',\n",
       " 'BR',\n",
       " 'SA',\n",
       " 'ID',\n",
       " 'US',\n",
       " 'VE',\n",
       " 'RU',\n",
       " 'CV',\n",
       " 'US',\n",
       " 'MZ',\n",
       " 'AR',\n",
       " 'US',\n",
       " 'AU',\n",
       " 'RU',\n",
       " 'CL',\n",
       " 'RU',\n",
       " 'US',\n",
       " 'ID',\n",
       " 'VU',\n",
       " 'PT',\n",
       " 'US',\n",
       " 'US',\n",
       " 'ID',\n",
       " 'US',\n",
       " 'CA',\n",
       " 'RU',\n",
       " 'RU',\n",
       " 'US',\n",
       " 'AU',\n",
       " 'JP',\n",
       " 'ZA',\n",
       " 'HK',\n",
       " 'PF',\n",
       " 'US',\n",
       " 'PT',\n",
       " 'NU',\n",
       " 'ZA',\n",
       " 'RU',\n",
       " 'NO',\n",
       " 'BR',\n",
       " 'AU',\n",
       " 'US',\n",
       " 'BR',\n",
       " 'ZA',\n",
       " 'RU',\n",
       " 'CA',\n",
       " 'PK',\n",
       " 'US',\n",
       " 'NC',\n",
       " 'MU',\n",
       " 'ID',\n",
       " 'US',\n",
       " 'SB',\n",
       " 'MX',\n",
       " 'TL',\n",
       " 'CA',\n",
       " 'GL',\n",
       " 'RU',\n",
       " 'ID',\n",
       " 'US',\n",
       " 'CN',\n",
       " 'US',\n",
       " 'PT',\n",
       " 'BR',\n",
       " 'KE',\n",
       " 'MY',\n",
       " 'GL',\n",
       " 'SB',\n",
       " 'MZ',\n",
       " 'RU',\n",
       " 'RU']"
      ]
     },
     "execution_count": 12,
     "metadata": {},
     "output_type": "execute_result"
    }
   ],
   "source": [
    "city_country"
   ]
  },
  {
   "cell_type": "code",
   "execution_count": 4,
   "metadata": {},
   "outputs": [
    {
     "data": {
      "text/plain": [
       "{'coord': {'lon': -0.1257, 'lat': 51.5085},\n",
       " 'weather': [{'id': 802,\n",
       "   'main': 'Clouds',\n",
       "   'description': 'scattered clouds',\n",
       "   'icon': '03n'}],\n",
       " 'base': 'stations',\n",
       " 'main': {'temp': 56.52,\n",
       "  'feels_like': 56.05,\n",
       "  'temp_min': 51.13,\n",
       "  'temp_max': 60.21,\n",
       "  'pressure': 1027,\n",
       "  'humidity': 89},\n",
       " 'visibility': 10000,\n",
       " 'wind': {'speed': 2.3, 'deg': 0},\n",
       " 'clouds': {'all': 30},\n",
       " 'dt': 1623553644,\n",
       " 'sys': {'type': 2,\n",
       "  'id': 2019646,\n",
       "  'country': 'GB',\n",
       "  'sunrise': 1623555785,\n",
       "  'sunset': 1623615494},\n",
       " 'timezone': 3600,\n",
       " 'id': 2643743,\n",
       " 'name': 'London',\n",
       " 'cod': 200}"
      ]
     },
     "execution_count": 4,
     "metadata": {},
     "output_type": "execute_result"
    }
   ],
   "source": [
    "city_test = \"London\"\n",
    "query_url2 = f\"{url}{weather_api_key}&q={city_test}\"\n",
    "response_test = requests.get(query_url2).json()\n",
    "response_test"
   ]
  },
  {
   "cell_type": "code",
   "execution_count": 7,
   "metadata": {},
   "outputs": [
    {
     "data": {
      "text/plain": [
       "-0.1257"
      ]
     },
     "execution_count": 7,
     "metadata": {},
     "output_type": "execute_result"
    }
   ],
   "source": [
    "lon = response_test[\"coord\"][\"lon\"]\n",
    "lon"
   ]
  },
  {
   "cell_type": "code",
   "execution_count": 30,
   "metadata": {},
   "outputs": [
    {
     "data": {
      "text/html": [
       "<div>\n",
       "<style scoped>\n",
       "    .dataframe tbody tr th:only-of-type {\n",
       "        vertical-align: middle;\n",
       "    }\n",
       "\n",
       "    .dataframe tbody tr th {\n",
       "        vertical-align: top;\n",
       "    }\n",
       "\n",
       "    .dataframe thead th {\n",
       "        text-align: right;\n",
       "    }\n",
       "</style>\n",
       "<table border=\"1\" class=\"dataframe\">\n",
       "  <thead>\n",
       "    <tr style=\"text-align: right;\">\n",
       "      <th></th>\n",
       "      <th>Name</th>\n",
       "      <th>Lat</th>\n",
       "      <th>Lng</th>\n",
       "      <th>Max Temp</th>\n",
       "      <th>Humidity</th>\n",
       "      <th>Cloudiness</th>\n",
       "      <th>Wind Speed</th>\n",
       "      <th>Country</th>\n",
       "      <th>Date</th>\n",
       "    </tr>\n",
       "  </thead>\n",
       "  <tbody>\n",
       "    <tr>\n",
       "      <th>0</th>\n",
       "      <td>Butaritari</td>\n",
       "      <td>3.0707</td>\n",
       "      <td>3.0707</td>\n",
       "      <td>82.53</td>\n",
       "      <td>74</td>\n",
       "      <td>31</td>\n",
       "      <td>6.49</td>\n",
       "      <td>KI</td>\n",
       "      <td>1623557719</td>\n",
       "    </tr>\n",
       "    <tr>\n",
       "      <th>1</th>\n",
       "      <td>Altagracia de Orituco</td>\n",
       "      <td>9.8601</td>\n",
       "      <td>9.8601</td>\n",
       "      <td>71.89</td>\n",
       "      <td>87</td>\n",
       "      <td>48</td>\n",
       "      <td>3.36</td>\n",
       "      <td>VE</td>\n",
       "      <td>1623557953</td>\n",
       "    </tr>\n",
       "    <tr>\n",
       "      <th>2</th>\n",
       "      <td>Mataura</td>\n",
       "      <td>-46.1927</td>\n",
       "      <td>-46.1927</td>\n",
       "      <td>50.68</td>\n",
       "      <td>99</td>\n",
       "      <td>100</td>\n",
       "      <td>2.55</td>\n",
       "      <td>NZ</td>\n",
       "      <td>1623557842</td>\n",
       "    </tr>\n",
       "    <tr>\n",
       "      <th>3</th>\n",
       "      <td>Cockburn Town</td>\n",
       "      <td>21.4612</td>\n",
       "      <td>21.4612</td>\n",
       "      <td>80.26</td>\n",
       "      <td>82</td>\n",
       "      <td>90</td>\n",
       "      <td>16.35</td>\n",
       "      <td>TC</td>\n",
       "      <td>1623557954</td>\n",
       "    </tr>\n",
       "    <tr>\n",
       "      <th>4</th>\n",
       "      <td>Parrita</td>\n",
       "      <td>9.5201</td>\n",
       "      <td>9.5201</td>\n",
       "      <td>80.51</td>\n",
       "      <td>87</td>\n",
       "      <td>100</td>\n",
       "      <td>1.86</td>\n",
       "      <td>CR</td>\n",
       "      <td>1623557955</td>\n",
       "    </tr>\n",
       "    <tr>\n",
       "      <th>...</th>\n",
       "      <td>...</td>\n",
       "      <td>...</td>\n",
       "      <td>...</td>\n",
       "      <td>...</td>\n",
       "      <td>...</td>\n",
       "      <td>...</td>\n",
       "      <td>...</td>\n",
       "      <td>...</td>\n",
       "      <td>...</td>\n",
       "    </tr>\n",
       "    <tr>\n",
       "      <th>73</th>\n",
       "      <td>East London</td>\n",
       "      <td>-33.0153</td>\n",
       "      <td>-33.0153</td>\n",
       "      <td>61.74</td>\n",
       "      <td>82</td>\n",
       "      <td>75</td>\n",
       "      <td>5.75</td>\n",
       "      <td>ZA</td>\n",
       "      <td>1623557776</td>\n",
       "    </tr>\n",
       "    <tr>\n",
       "      <th>74</th>\n",
       "      <td>Sandwick</td>\n",
       "      <td>60.0000</td>\n",
       "      <td>60.0000</td>\n",
       "      <td>49.82</td>\n",
       "      <td>87</td>\n",
       "      <td>90</td>\n",
       "      <td>17.27</td>\n",
       "      <td>GB</td>\n",
       "      <td>1623557998</td>\n",
       "    </tr>\n",
       "    <tr>\n",
       "      <th>75</th>\n",
       "      <td>Bethel</td>\n",
       "      <td>41.3712</td>\n",
       "      <td>41.3712</td>\n",
       "      <td>61.11</td>\n",
       "      <td>91</td>\n",
       "      <td>1</td>\n",
       "      <td>0.00</td>\n",
       "      <td>US</td>\n",
       "      <td>1623557790</td>\n",
       "    </tr>\n",
       "    <tr>\n",
       "      <th>76</th>\n",
       "      <td>Carnarvon</td>\n",
       "      <td>-24.8667</td>\n",
       "      <td>-24.8667</td>\n",
       "      <td>71.67</td>\n",
       "      <td>59</td>\n",
       "      <td>2</td>\n",
       "      <td>6.91</td>\n",
       "      <td>AU</td>\n",
       "      <td>1623557783</td>\n",
       "    </tr>\n",
       "    <tr>\n",
       "      <th>77</th>\n",
       "      <td>Fortuna</td>\n",
       "      <td>40.5982</td>\n",
       "      <td>40.5982</td>\n",
       "      <td>67.93</td>\n",
       "      <td>77</td>\n",
       "      <td>90</td>\n",
       "      <td>1.01</td>\n",
       "      <td>US</td>\n",
       "      <td>1623557840</td>\n",
       "    </tr>\n",
       "  </tbody>\n",
       "</table>\n",
       "<p>78 rows × 9 columns</p>\n",
       "</div>"
      ],
      "text/plain": [
       "                     Name      Lat      Lng  Max Temp  Humidity  Cloudiness  \\\n",
       "0              Butaritari   3.0707   3.0707     82.53        74          31   \n",
       "1   Altagracia de Orituco   9.8601   9.8601     71.89        87          48   \n",
       "2                 Mataura -46.1927 -46.1927     50.68        99         100   \n",
       "3           Cockburn Town  21.4612  21.4612     80.26        82          90   \n",
       "4                 Parrita   9.5201   9.5201     80.51        87         100   \n",
       "..                    ...      ...      ...       ...       ...         ...   \n",
       "73            East London -33.0153 -33.0153     61.74        82          75   \n",
       "74               Sandwick  60.0000  60.0000     49.82        87          90   \n",
       "75                 Bethel  41.3712  41.3712     61.11        91           1   \n",
       "76              Carnarvon -24.8667 -24.8667     71.67        59           2   \n",
       "77                Fortuna  40.5982  40.5982     67.93        77          90   \n",
       "\n",
       "    Wind Speed Country        Date  \n",
       "0         6.49      KI  1623557719  \n",
       "1         3.36      VE  1623557953  \n",
       "2         2.55      NZ  1623557842  \n",
       "3        16.35      TC  1623557954  \n",
       "4         1.86      CR  1623557955  \n",
       "..         ...     ...         ...  \n",
       "73        5.75      ZA  1623557776  \n",
       "74       17.27      GB  1623557998  \n",
       "75        0.00      US  1623557790  \n",
       "76        6.91      AU  1623557783  \n",
       "77        1.01      US  1623557840  \n",
       "\n",
       "[78 rows x 9 columns]"
      ]
     },
     "execution_count": 30,
     "metadata": {},
     "output_type": "execute_result"
    }
   ],
   "source": [
    "weather_df = pd.DataFrame({\"Name\": city_name, \"Lat\": city_lat, \"Lng\": city_lng, \"Max Temp\": city_temp_max,\n",
    "                          \"Humidity\": city_humidity, \"Cloudiness\": city_clouds, \"Wind Speed\": city_wind,\n",
    "                           \"Country\": city_country, \"Date\": city_date})\n",
    "weather_df"
   ]
  },
  {
   "cell_type": "code",
   "execution_count": null,
   "metadata": {
    "scrolled": true
   },
   "outputs": [],
   "source": []
  },
  {
   "cell_type": "markdown",
   "metadata": {},
   "source": [
    "### Convert Raw Data to DataFrame\n",
    "* Export the city data into a .csv.\n",
    "* Display the DataFrame"
   ]
  },
  {
   "cell_type": "code",
   "execution_count": null,
   "metadata": {},
   "outputs": [],
   "source": []
  },
  {
   "cell_type": "code",
   "execution_count": null,
   "metadata": {},
   "outputs": [],
   "source": []
  },
  {
   "cell_type": "markdown",
   "metadata": {},
   "source": [
    "## Inspect the data and remove the cities where the humidity > 100%.\n",
    "----\n",
    "Skip this step if there are no cities that have humidity > 100%. "
   ]
  },
  {
   "cell_type": "code",
   "execution_count": null,
   "metadata": {},
   "outputs": [],
   "source": []
  },
  {
   "cell_type": "code",
   "execution_count": null,
   "metadata": {},
   "outputs": [],
   "source": [
    "#  Get the indices of cities that have humidity over 100%.\n"
   ]
  },
  {
   "cell_type": "code",
   "execution_count": null,
   "metadata": {},
   "outputs": [],
   "source": [
    "# Make a new DataFrame equal to the city data to drop all humidity outliers by index.\n",
    "# Passing \"inplace=False\" will make a copy of the city_data DataFrame, which we call \"clean_city_data\".\n"
   ]
  },
  {
   "cell_type": "code",
   "execution_count": null,
   "metadata": {},
   "outputs": [],
   "source": [
    "\n"
   ]
  },
  {
   "cell_type": "markdown",
   "metadata": {},
   "source": [
    "## Plotting the Data\n",
    "* Use proper labeling of the plots using plot titles (including date of analysis) and axes labels.\n",
    "* Save the plotted figures as .pngs."
   ]
  },
  {
   "cell_type": "markdown",
   "metadata": {},
   "source": [
    "## Latitude vs. Temperature Plot"
   ]
  },
  {
   "cell_type": "code",
   "execution_count": null,
   "metadata": {
    "scrolled": true
   },
   "outputs": [],
   "source": []
  },
  {
   "cell_type": "markdown",
   "metadata": {},
   "source": [
    "## Latitude vs. Humidity Plot"
   ]
  },
  {
   "cell_type": "code",
   "execution_count": null,
   "metadata": {},
   "outputs": [],
   "source": []
  },
  {
   "cell_type": "markdown",
   "metadata": {},
   "source": [
    "## Latitude vs. Cloudiness Plot"
   ]
  },
  {
   "cell_type": "code",
   "execution_count": null,
   "metadata": {},
   "outputs": [],
   "source": []
  },
  {
   "cell_type": "markdown",
   "metadata": {},
   "source": [
    "## Latitude vs. Wind Speed Plot"
   ]
  },
  {
   "cell_type": "code",
   "execution_count": null,
   "metadata": {},
   "outputs": [],
   "source": []
  },
  {
   "cell_type": "markdown",
   "metadata": {},
   "source": [
    "## Linear Regression"
   ]
  },
  {
   "cell_type": "code",
   "execution_count": null,
   "metadata": {},
   "outputs": [],
   "source": []
  },
  {
   "cell_type": "markdown",
   "metadata": {},
   "source": [
    "####  Northern Hemisphere - Max Temp vs. Latitude Linear Regression"
   ]
  },
  {
   "cell_type": "code",
   "execution_count": null,
   "metadata": {},
   "outputs": [],
   "source": []
  },
  {
   "cell_type": "markdown",
   "metadata": {},
   "source": [
    "####  Southern Hemisphere - Max Temp vs. Latitude Linear Regression"
   ]
  },
  {
   "cell_type": "code",
   "execution_count": null,
   "metadata": {},
   "outputs": [],
   "source": []
  },
  {
   "cell_type": "markdown",
   "metadata": {},
   "source": [
    "####  Northern Hemisphere - Humidity (%) vs. Latitude Linear Regression"
   ]
  },
  {
   "cell_type": "code",
   "execution_count": null,
   "metadata": {},
   "outputs": [],
   "source": []
  },
  {
   "cell_type": "markdown",
   "metadata": {},
   "source": [
    "####  Southern Hemisphere - Humidity (%) vs. Latitude Linear Regression"
   ]
  },
  {
   "cell_type": "code",
   "execution_count": null,
   "metadata": {},
   "outputs": [],
   "source": []
  },
  {
   "cell_type": "markdown",
   "metadata": {},
   "source": [
    "####  Northern Hemisphere - Cloudiness (%) vs. Latitude Linear Regression"
   ]
  },
  {
   "cell_type": "code",
   "execution_count": null,
   "metadata": {},
   "outputs": [],
   "source": []
  },
  {
   "cell_type": "markdown",
   "metadata": {},
   "source": [
    "####  Southern Hemisphere - Cloudiness (%) vs. Latitude Linear Regression"
   ]
  },
  {
   "cell_type": "code",
   "execution_count": null,
   "metadata": {},
   "outputs": [],
   "source": []
  },
  {
   "cell_type": "markdown",
   "metadata": {},
   "source": [
    "####  Northern Hemisphere - Wind Speed (mph) vs. Latitude Linear Regression"
   ]
  },
  {
   "cell_type": "code",
   "execution_count": null,
   "metadata": {},
   "outputs": [],
   "source": []
  },
  {
   "cell_type": "markdown",
   "metadata": {},
   "source": [
    "####  Southern Hemisphere - Wind Speed (mph) vs. Latitude Linear Regression"
   ]
  },
  {
   "cell_type": "code",
   "execution_count": null,
   "metadata": {},
   "outputs": [],
   "source": []
  },
  {
   "cell_type": "code",
   "execution_count": null,
   "metadata": {},
   "outputs": [],
   "source": []
  }
 ],
 "metadata": {
  "anaconda-cloud": {},
  "kernel_info": {
   "name": "python3"
  },
  "kernelspec": {
   "display_name": "Python [conda env:PythonData] *",
   "language": "python",
   "name": "conda-env-PythonData-py"
  },
  "language_info": {
   "codemirror_mode": {
    "name": "ipython",
    "version": 3
   },
   "file_extension": ".py",
   "mimetype": "text/x-python",
   "name": "python",
   "nbconvert_exporter": "python",
   "pygments_lexer": "ipython3",
   "version": "3.6.10"
  },
  "latex_envs": {
   "LaTeX_envs_menu_present": true,
   "autoclose": false,
   "autocomplete": true,
   "bibliofile": "biblio.bib",
   "cite_by": "apalike",
   "current_citInitial": 1,
   "eqLabelWithNumbers": true,
   "eqNumInitial": 1,
   "hotkeys": {
    "equation": "Ctrl-E",
    "itemize": "Ctrl-I"
   },
   "labels_anchors": false,
   "latex_user_defs": false,
   "report_style_numbering": false,
   "user_envs_cfg": false
  },
  "nteract": {
   "version": "0.12.3"
  }
 },
 "nbformat": 4,
 "nbformat_minor": 2
}
